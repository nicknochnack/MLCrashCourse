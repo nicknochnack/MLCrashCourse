{
 "cells": [
  {
   "cell_type": "markdown",
   "metadata": {},
   "source": [
    "# CRISP - DM\n",
    "1. Business Understanding\n",
    "2. Data understanding\n",
    "3. Data Preparation\n",
    "4. Modelling\n",
    "5. Evaluation\n",
    "6. Deployment"
   ]
  },
  {
   "cell_type": "markdown",
   "metadata": {},
   "source": [
    "So...you want to do the machine learning eh?\n",
    "\n",
    "Well you've come to the right place! \n",
    "\n",
    "In this five part series, we're going to go through the fastest possible way to build train and save a ma chine learning model. \n",
    "\n",
    "But first...the most important part of building any machine learning model is just a few letters. \n",
    "\n",
    "BDDMED\n",
    "\n",
    "If there's anything else you take from this course it needs to be that. \n",
    "\n",
    "Here's an easy way to remember it. \n",
    "\n",
    "Barry Drove Directly to the Medical Emergency Department\n",
    "\n",
    "Now you're probably thinking...\n",
    "\n",
    "WHAT\n",
    "\n",
    "THE \n",
    "\n",
    "HELL\n",
    "\n",
    "Well BDDMED stands for:\n",
    "1. Business Understanding\n",
    "2. Data Understanding\n",
    "3. Data Preparation\n",
    "4. Modelling \n",
    "5. Evaluation\n",
    "6. Deployment\n",
    "\n",
    "These six steps underpin ALLL of Data Science...whether you're writing a simple linear regression or building a siamese neural network. \n",
    "\n",
    "every \n",
    "DATA SCIENTIST \n",
    "<b>UNDERSTANDS THIS</b>. \n",
    "\n",
    "They're the six critical steps for being successful with machine learning or Data Science. BDDMED comes from the world famous CRISP-DM model for machine learning. It's the undisputed and widely agreed upon framework for all data mining (in the old language) regardless of the problem. \n",
    "\n",
    "\n",
    "So...what the hell do they mean."
   ]
  },
  {
   "cell_type": "markdown",
   "metadata": {},
   "source": [
    "# Importing Data"
   ]
  },
  {
   "cell_type": "markdown",
   "metadata": {},
   "source": [
    "Alrighty, so first thing's first we need to get some data to do data science. \n",
    "\n",
    "In this case, we are going to be messing around with a little ol CSV. \n",
    "\n",
    "And we're going to be using one of the most powerful Python tools on earth. \n",
    "\n",
    "PANDAS.\n",
    "\n",
    "No, I'm not talking about the cute, clumsy, cuddly we all know and love. \n",
    "\n",
    "I'm talking about the Python package.  Pandas helps us work with our data in a dataframe (fancy word for a table).\n",
    "\n",
    "To import pandas all ya need to do is import it with the following command. "
   ]
  },
  {
   "cell_type": "code",
   "execution_count": 1,
   "metadata": {
    "collapsed": true
   },
   "outputs": [],
   "source": [
    "import pandas as pd"
   ]
  },
  {
   "cell_type": "markdown",
   "metadata": {},
   "source": [
    "Presto! Pandas imported. \n",
    "\n",
    "You can then import data from CSV's using the read_csv function. "
   ]
  },
  {
   "cell_type": "code",
   "execution_count": 2,
   "metadata": {
    "collapsed": true
   },
   "outputs": [],
   "source": [
    "# comment\n",
    "df = pd.read_csv('dataset.csv')"
   ]
  },
  {
   "cell_type": "markdown",
   "metadata": {},
   "source": [
    "And take a look at the first five rows using the head() method. "
   ]
  },
  {
   "cell_type": "code",
   "execution_count": 3,
   "metadata": {},
   "outputs": [
    {
     "data": {
      "text/html": [
       "<div>\n",
       "<style>\n",
       "    .dataframe thead tr:only-child th {\n",
       "        text-align: right;\n",
       "    }\n",
       "\n",
       "    .dataframe thead th {\n",
       "        text-align: left;\n",
       "    }\n",
       "\n",
       "    .dataframe tbody tr th {\n",
       "        vertical-align: top;\n",
       "    }\n",
       "</style>\n",
       "<table border=\"1\" class=\"dataframe\">\n",
       "  <thead>\n",
       "    <tr style=\"text-align: right;\">\n",
       "      <th></th>\n",
       "      <th>customerID</th>\n",
       "      <th>gender</th>\n",
       "      <th>SeniorCitizen</th>\n",
       "      <th>Partner</th>\n",
       "      <th>Dependents</th>\n",
       "      <th>tenure</th>\n",
       "      <th>PhoneService</th>\n",
       "      <th>MultipleLines</th>\n",
       "      <th>InternetService</th>\n",
       "      <th>OnlineSecurity</th>\n",
       "      <th>...</th>\n",
       "      <th>DeviceProtection</th>\n",
       "      <th>TechSupport</th>\n",
       "      <th>StreamingTV</th>\n",
       "      <th>StreamingMovies</th>\n",
       "      <th>Contract</th>\n",
       "      <th>PaperlessBilling</th>\n",
       "      <th>PaymentMethod</th>\n",
       "      <th>MonthlyCharges</th>\n",
       "      <th>TotalCharges</th>\n",
       "      <th>Churn</th>\n",
       "    </tr>\n",
       "  </thead>\n",
       "  <tbody>\n",
       "    <tr>\n",
       "      <th>0</th>\n",
       "      <td>7590-VHVEG</td>\n",
       "      <td>Female</td>\n",
       "      <td>0</td>\n",
       "      <td>Yes</td>\n",
       "      <td>No</td>\n",
       "      <td>1</td>\n",
       "      <td>No</td>\n",
       "      <td>No phone service</td>\n",
       "      <td>DSL</td>\n",
       "      <td>No</td>\n",
       "      <td>...</td>\n",
       "      <td>No</td>\n",
       "      <td>No</td>\n",
       "      <td>No</td>\n",
       "      <td>No</td>\n",
       "      <td>Month-to-month</td>\n",
       "      <td>Yes</td>\n",
       "      <td>Electronic check</td>\n",
       "      <td>29.85</td>\n",
       "      <td>29.85</td>\n",
       "      <td>No</td>\n",
       "    </tr>\n",
       "    <tr>\n",
       "      <th>1</th>\n",
       "      <td>5575-GNVDE</td>\n",
       "      <td>Male</td>\n",
       "      <td>0</td>\n",
       "      <td>No</td>\n",
       "      <td>No</td>\n",
       "      <td>34</td>\n",
       "      <td>Yes</td>\n",
       "      <td>No</td>\n",
       "      <td>DSL</td>\n",
       "      <td>Yes</td>\n",
       "      <td>...</td>\n",
       "      <td>Yes</td>\n",
       "      <td>No</td>\n",
       "      <td>No</td>\n",
       "      <td>No</td>\n",
       "      <td>One year</td>\n",
       "      <td>No</td>\n",
       "      <td>Mailed check</td>\n",
       "      <td>56.95</td>\n",
       "      <td>1889.5</td>\n",
       "      <td>No</td>\n",
       "    </tr>\n",
       "    <tr>\n",
       "      <th>2</th>\n",
       "      <td>3668-QPYBK</td>\n",
       "      <td>Male</td>\n",
       "      <td>0</td>\n",
       "      <td>No</td>\n",
       "      <td>No</td>\n",
       "      <td>2</td>\n",
       "      <td>Yes</td>\n",
       "      <td>No</td>\n",
       "      <td>DSL</td>\n",
       "      <td>Yes</td>\n",
       "      <td>...</td>\n",
       "      <td>No</td>\n",
       "      <td>No</td>\n",
       "      <td>No</td>\n",
       "      <td>No</td>\n",
       "      <td>Month-to-month</td>\n",
       "      <td>Yes</td>\n",
       "      <td>Mailed check</td>\n",
       "      <td>53.85</td>\n",
       "      <td>108.15</td>\n",
       "      <td>Yes</td>\n",
       "    </tr>\n",
       "    <tr>\n",
       "      <th>3</th>\n",
       "      <td>7795-CFOCW</td>\n",
       "      <td>Male</td>\n",
       "      <td>0</td>\n",
       "      <td>No</td>\n",
       "      <td>No</td>\n",
       "      <td>45</td>\n",
       "      <td>No</td>\n",
       "      <td>No phone service</td>\n",
       "      <td>DSL</td>\n",
       "      <td>Yes</td>\n",
       "      <td>...</td>\n",
       "      <td>Yes</td>\n",
       "      <td>Yes</td>\n",
       "      <td>No</td>\n",
       "      <td>No</td>\n",
       "      <td>One year</td>\n",
       "      <td>No</td>\n",
       "      <td>Bank transfer (automatic)</td>\n",
       "      <td>42.30</td>\n",
       "      <td>1840.75</td>\n",
       "      <td>No</td>\n",
       "    </tr>\n",
       "    <tr>\n",
       "      <th>4</th>\n",
       "      <td>9237-HQITU</td>\n",
       "      <td>Female</td>\n",
       "      <td>0</td>\n",
       "      <td>No</td>\n",
       "      <td>No</td>\n",
       "      <td>2</td>\n",
       "      <td>Yes</td>\n",
       "      <td>No</td>\n",
       "      <td>Fiber optic</td>\n",
       "      <td>No</td>\n",
       "      <td>...</td>\n",
       "      <td>No</td>\n",
       "      <td>No</td>\n",
       "      <td>No</td>\n",
       "      <td>No</td>\n",
       "      <td>Month-to-month</td>\n",
       "      <td>Yes</td>\n",
       "      <td>Electronic check</td>\n",
       "      <td>70.70</td>\n",
       "      <td>151.65</td>\n",
       "      <td>Yes</td>\n",
       "    </tr>\n",
       "  </tbody>\n",
       "</table>\n",
       "<p>5 rows × 21 columns</p>\n",
       "</div>"
      ],
      "text/plain": [
       "   customerID  gender  SeniorCitizen Partner Dependents  tenure PhoneService  \\\n",
       "0  7590-VHVEG  Female              0     Yes         No       1           No   \n",
       "1  5575-GNVDE    Male              0      No         No      34          Yes   \n",
       "2  3668-QPYBK    Male              0      No         No       2          Yes   \n",
       "3  7795-CFOCW    Male              0      No         No      45           No   \n",
       "4  9237-HQITU  Female              0      No         No       2          Yes   \n",
       "\n",
       "      MultipleLines InternetService OnlineSecurity  ...  DeviceProtection  \\\n",
       "0  No phone service             DSL             No  ...                No   \n",
       "1                No             DSL            Yes  ...               Yes   \n",
       "2                No             DSL            Yes  ...                No   \n",
       "3  No phone service             DSL            Yes  ...               Yes   \n",
       "4                No     Fiber optic             No  ...                No   \n",
       "\n",
       "  TechSupport StreamingTV StreamingMovies        Contract PaperlessBilling  \\\n",
       "0          No          No              No  Month-to-month              Yes   \n",
       "1          No          No              No        One year               No   \n",
       "2          No          No              No  Month-to-month              Yes   \n",
       "3         Yes          No              No        One year               No   \n",
       "4          No          No              No  Month-to-month              Yes   \n",
       "\n",
       "               PaymentMethod MonthlyCharges  TotalCharges Churn  \n",
       "0           Electronic check          29.85         29.85    No  \n",
       "1               Mailed check          56.95        1889.5    No  \n",
       "2               Mailed check          53.85        108.15   Yes  \n",
       "3  Bank transfer (automatic)          42.30       1840.75    No  \n",
       "4           Electronic check          70.70        151.65   Yes  \n",
       "\n",
       "[5 rows x 21 columns]"
      ]
     },
     "execution_count": 3,
     "metadata": {},
     "output_type": "execute_result"
    }
   ],
   "source": [
    "df.head()"
   ]
  },
  {
   "cell_type": "markdown",
   "metadata": {},
   "source": [
    "# Data Understanding"
   ]
  },
  {
   "cell_type": "markdown",
   "metadata": {},
   "source": [
    "Now cast your mind back to lesson numero uno. We talked about three basic frameqwork for all machine learning CRISP-DM. BDDMED?!\n",
    "\n",
    "Barry drove directly to the Medical Emergency Department. \n",
    "\n",
    "The second step in the data science lifecycle was to understand our data aka DATA UNDERSTANDING. \n",
    "\n",
    "So...we're about to do just that. "
   ]
  },
  {
   "cell_type": "markdown",
   "metadata": {},
   "source": [
    "<b>Checking the number of records</b>\n",
    "<p>The first check we're going to do is have a look at the total number of records we've got on hand. This can be done using the Python len() function. All you have to do is pass the data to the function like so.</p>"
   ]
  },
  {
   "cell_type": "code",
   "execution_count": 4,
   "metadata": {},
   "outputs": [
    {
     "data": {
      "text/plain": [
       "7043"
      ]
     },
     "execution_count": 4,
     "metadata": {},
     "output_type": "execute_result"
    }
   ],
   "source": [
    "len(df)"
   ]
  },
  {
   "cell_type": "markdown",
   "metadata": {},
   "source": [
    "So, we can see there that there are around 7043 records that we have to play with. \n",
    "\n",
    "The next thing we should probably review are the columns that are within our dataset. Knowing what we have on hand is important as these are the features that we're going to need to use to predict our target variable. You can review the columns by accessing the column attribute. "
   ]
  },
  {
   "cell_type": "code",
   "execution_count": 5,
   "metadata": {},
   "outputs": [
    {
     "data": {
      "text/plain": [
       "Index(['customerID', 'gender', 'SeniorCitizen', 'Partner', 'Dependents',\n",
       "       'tenure', 'PhoneService', 'MultipleLines', 'InternetService',\n",
       "       'OnlineSecurity', 'OnlineBackup', 'DeviceProtection', 'TechSupport',\n",
       "       'StreamingTV', 'StreamingMovies', 'Contract', 'PaperlessBilling',\n",
       "       'PaymentMethod', 'MonthlyCharges', 'TotalCharges', 'Churn'],\n",
       "      dtype='object')"
      ]
     },
     "execution_count": 5,
     "metadata": {},
     "output_type": "execute_result"
    }
   ],
   "source": [
    "df.columns"
   ]
  },
  {
   "cell_type": "markdown",
   "metadata": {},
   "source": [
    "<b>Checking datatypes</b>\n",
    "<p>Butttt...that's not really that useful. It would probably be more useful to understand what the datatypes for those columns are.</p>\n",
    "<p>Datasets you might receive, could sometimes come with a data dictionary. But on the off change they don't it's realitively easy to create one yourself by checking the datatypes with the dtypes attribute above and printing out the unique values in each column with the unique() method below.</p>"
   ]
  },
  {
   "cell_type": "code",
   "execution_count": 6,
   "metadata": {},
   "outputs": [
    {
     "data": {
      "text/plain": [
       "customerID           object\n",
       "gender               object\n",
       "SeniorCitizen         int64\n",
       "Partner              object\n",
       "Dependents           object\n",
       "tenure                int64\n",
       "PhoneService         object\n",
       "MultipleLines        object\n",
       "InternetService      object\n",
       "OnlineSecurity       object\n",
       "OnlineBackup         object\n",
       "DeviceProtection     object\n",
       "TechSupport          object\n",
       "StreamingTV          object\n",
       "StreamingMovies      object\n",
       "Contract             object\n",
       "PaperlessBilling     object\n",
       "PaymentMethod        object\n",
       "MonthlyCharges      float64\n",
       "TotalCharges         object\n",
       "Churn                object\n",
       "dtype: object"
      ]
     },
     "execution_count": 6,
     "metadata": {},
     "output_type": "execute_result"
    }
   ],
   "source": [
    "df.dtypes"
   ]
  },
  {
   "cell_type": "markdown",
   "metadata": {},
   "source": [
    "This tells us a little about what we've actually got to work here. Now cast your mind back to the business understanding segment. The customer told us that they wanted to predict which of their customers they were likely to lose so they could try to do something about it. \n",
    "\n",
    "This is a form of supervised learning, and specifically it's binary classification. \n",
    "\n",
    "All we need to predict is if the customer is going to leave (1) or stay (0). This type of use case is normally referred to as Churn prediction. And lucky for us, there's a column in our dataset called Churn!\n",
    "\n",
    "We can also take a look at some of our columns by using the unique() method. This gives us a feel for what data we have at hand. "
   ]
  },
  {
   "cell_type": "code",
   "execution_count": 7,
   "metadata": {},
   "outputs": [
    {
     "name": "stdout",
     "output_type": "stream",
     "text": [
      "customerID 7043 ['7590-VHVEG' '5575-GNVDE' '3668-QPYBK' ... '4801-JZAZL' '8361-LTMKD'\n",
      " '3186-AJIEK']\n",
      "gender 2 ['Female' 'Male']\n",
      "SeniorCitizen 2 [0 1]\n",
      "Partner 2 ['Yes' 'No']\n",
      "Dependents 2 ['No' 'Yes']\n",
      "tenure 73 [ 1 34  2 45  8 22 10 28 62 13 16 58 49 25 69 52 71 21 12 30 47 72 17 27\n",
      "  5 46 11 70 63 43 15 60 18 66  9  3 31 50 64 56  7 42 35 48 29 65 38 68\n",
      " 32 55 37 36 41  6  4 33 67 23 57 61 14 20 53 40 59 24 44 19 54 51 26  0\n",
      " 39]\n",
      "PhoneService 2 ['No' 'Yes']\n",
      "MultipleLines 3 ['No phone service' 'No' 'Yes']\n",
      "InternetService 3 ['DSL' 'Fiber optic' 'No']\n",
      "OnlineSecurity 3 ['No' 'Yes' 'No internet service']\n",
      "OnlineBackup 3 ['Yes' 'No' 'No internet service']\n",
      "DeviceProtection 3 ['No' 'Yes' 'No internet service']\n",
      "TechSupport 3 ['No' 'Yes' 'No internet service']\n",
      "StreamingTV 3 ['No' 'Yes' 'No internet service']\n",
      "StreamingMovies 3 ['No' 'Yes' 'No internet service']\n",
      "Contract 3 ['Month-to-month' 'One year' 'Two year']\n",
      "PaperlessBilling 2 ['Yes' 'No']\n",
      "PaymentMethod 4 ['Electronic check' 'Mailed check' 'Bank transfer (automatic)'\n",
      " 'Credit card (automatic)']\n",
      "MonthlyCharges 1585 [29.85 56.95 53.85 ... 63.1  44.2  78.7 ]\n",
      "TotalCharges 6531 ['29.85' '1889.5' '108.15' ... '346.45' '306.6' '6844.5']\n",
      "Churn 2 ['No' 'Yes']\n"
     ]
    }
   ],
   "source": [
    "for col in df.columns:\n",
    "    print(col, len(df[col].unique()), df[col].unique())"
   ]
  },
  {
   "cell_type": "markdown",
   "metadata": {},
   "source": [
    "<b>Summary Statistics</b>\n",
    "<p>Onwards....now that we know we have the column required for our specific task we can do a little more exploratory analysis to get a feel for our dataset. A good way to quickly do this is to generate summary statistics. You can do this using the describe() method.</p>"
   ]
  },
  {
   "cell_type": "code",
   "execution_count": 8,
   "metadata": {},
   "outputs": [
    {
     "data": {
      "text/html": [
       "<div>\n",
       "<style>\n",
       "    .dataframe thead tr:only-child th {\n",
       "        text-align: right;\n",
       "    }\n",
       "\n",
       "    .dataframe thead th {\n",
       "        text-align: left;\n",
       "    }\n",
       "\n",
       "    .dataframe tbody tr th {\n",
       "        vertical-align: top;\n",
       "    }\n",
       "</style>\n",
       "<table border=\"1\" class=\"dataframe\">\n",
       "  <thead>\n",
       "    <tr style=\"text-align: right;\">\n",
       "      <th></th>\n",
       "      <th>SeniorCitizen</th>\n",
       "      <th>tenure</th>\n",
       "      <th>MonthlyCharges</th>\n",
       "    </tr>\n",
       "  </thead>\n",
       "  <tbody>\n",
       "    <tr>\n",
       "      <th>count</th>\n",
       "      <td>7043.000000</td>\n",
       "      <td>7043.000000</td>\n",
       "      <td>7043.000000</td>\n",
       "    </tr>\n",
       "    <tr>\n",
       "      <th>mean</th>\n",
       "      <td>0.162147</td>\n",
       "      <td>32.371149</td>\n",
       "      <td>64.761692</td>\n",
       "    </tr>\n",
       "    <tr>\n",
       "      <th>std</th>\n",
       "      <td>0.368612</td>\n",
       "      <td>24.559481</td>\n",
       "      <td>30.090047</td>\n",
       "    </tr>\n",
       "    <tr>\n",
       "      <th>min</th>\n",
       "      <td>0.000000</td>\n",
       "      <td>0.000000</td>\n",
       "      <td>18.250000</td>\n",
       "    </tr>\n",
       "    <tr>\n",
       "      <th>25%</th>\n",
       "      <td>0.000000</td>\n",
       "      <td>9.000000</td>\n",
       "      <td>35.500000</td>\n",
       "    </tr>\n",
       "    <tr>\n",
       "      <th>50%</th>\n",
       "      <td>0.000000</td>\n",
       "      <td>29.000000</td>\n",
       "      <td>70.350000</td>\n",
       "    </tr>\n",
       "    <tr>\n",
       "      <th>75%</th>\n",
       "      <td>0.000000</td>\n",
       "      <td>55.000000</td>\n",
       "      <td>89.850000</td>\n",
       "    </tr>\n",
       "    <tr>\n",
       "      <th>max</th>\n",
       "      <td>1.000000</td>\n",
       "      <td>72.000000</td>\n",
       "      <td>118.750000</td>\n",
       "    </tr>\n",
       "  </tbody>\n",
       "</table>\n",
       "</div>"
      ],
      "text/plain": [
       "       SeniorCitizen       tenure  MonthlyCharges\n",
       "count    7043.000000  7043.000000     7043.000000\n",
       "mean        0.162147    32.371149       64.761692\n",
       "std         0.368612    24.559481       30.090047\n",
       "min         0.000000     0.000000       18.250000\n",
       "25%         0.000000     9.000000       35.500000\n",
       "50%         0.000000    29.000000       70.350000\n",
       "75%         0.000000    55.000000       89.850000\n",
       "max         1.000000    72.000000      118.750000"
      ]
     },
     "execution_count": 8,
     "metadata": {},
     "output_type": "execute_result"
    }
   ],
   "source": [
    "df.describe()"
   ]
  },
  {
   "cell_type": "markdown",
   "metadata": {},
   "source": [
    "We can do the same for categorical features as well. "
   ]
  },
  {
   "cell_type": "code",
   "execution_count": 9,
   "metadata": {},
   "outputs": [
    {
     "data": {
      "text/html": [
       "<div>\n",
       "<style>\n",
       "    .dataframe thead tr:only-child th {\n",
       "        text-align: right;\n",
       "    }\n",
       "\n",
       "    .dataframe thead th {\n",
       "        text-align: left;\n",
       "    }\n",
       "\n",
       "    .dataframe tbody tr th {\n",
       "        vertical-align: top;\n",
       "    }\n",
       "</style>\n",
       "<table border=\"1\" class=\"dataframe\">\n",
       "  <thead>\n",
       "    <tr style=\"text-align: right;\">\n",
       "      <th></th>\n",
       "      <th>customerID</th>\n",
       "      <th>gender</th>\n",
       "      <th>Partner</th>\n",
       "      <th>Dependents</th>\n",
       "      <th>PhoneService</th>\n",
       "      <th>MultipleLines</th>\n",
       "      <th>InternetService</th>\n",
       "      <th>OnlineSecurity</th>\n",
       "      <th>OnlineBackup</th>\n",
       "      <th>DeviceProtection</th>\n",
       "      <th>TechSupport</th>\n",
       "      <th>StreamingTV</th>\n",
       "      <th>StreamingMovies</th>\n",
       "      <th>Contract</th>\n",
       "      <th>PaperlessBilling</th>\n",
       "      <th>PaymentMethod</th>\n",
       "      <th>TotalCharges</th>\n",
       "      <th>Churn</th>\n",
       "    </tr>\n",
       "  </thead>\n",
       "  <tbody>\n",
       "    <tr>\n",
       "      <th>count</th>\n",
       "      <td>7043</td>\n",
       "      <td>7043</td>\n",
       "      <td>7043</td>\n",
       "      <td>7043</td>\n",
       "      <td>7043</td>\n",
       "      <td>7043</td>\n",
       "      <td>7043</td>\n",
       "      <td>7043</td>\n",
       "      <td>7043</td>\n",
       "      <td>7043</td>\n",
       "      <td>7043</td>\n",
       "      <td>7043</td>\n",
       "      <td>7043</td>\n",
       "      <td>7043</td>\n",
       "      <td>7043</td>\n",
       "      <td>7043</td>\n",
       "      <td>7043</td>\n",
       "      <td>7043</td>\n",
       "    </tr>\n",
       "    <tr>\n",
       "      <th>unique</th>\n",
       "      <td>7043</td>\n",
       "      <td>2</td>\n",
       "      <td>2</td>\n",
       "      <td>2</td>\n",
       "      <td>2</td>\n",
       "      <td>3</td>\n",
       "      <td>3</td>\n",
       "      <td>3</td>\n",
       "      <td>3</td>\n",
       "      <td>3</td>\n",
       "      <td>3</td>\n",
       "      <td>3</td>\n",
       "      <td>3</td>\n",
       "      <td>3</td>\n",
       "      <td>2</td>\n",
       "      <td>4</td>\n",
       "      <td>6531</td>\n",
       "      <td>2</td>\n",
       "    </tr>\n",
       "    <tr>\n",
       "      <th>top</th>\n",
       "      <td>3331-HQDTW</td>\n",
       "      <td>Male</td>\n",
       "      <td>No</td>\n",
       "      <td>No</td>\n",
       "      <td>Yes</td>\n",
       "      <td>No</td>\n",
       "      <td>Fiber optic</td>\n",
       "      <td>No</td>\n",
       "      <td>No</td>\n",
       "      <td>No</td>\n",
       "      <td>No</td>\n",
       "      <td>No</td>\n",
       "      <td>No</td>\n",
       "      <td>Month-to-month</td>\n",
       "      <td>Yes</td>\n",
       "      <td>Electronic check</td>\n",
       "      <td></td>\n",
       "      <td>No</td>\n",
       "    </tr>\n",
       "    <tr>\n",
       "      <th>freq</th>\n",
       "      <td>1</td>\n",
       "      <td>3555</td>\n",
       "      <td>3641</td>\n",
       "      <td>4933</td>\n",
       "      <td>6361</td>\n",
       "      <td>3390</td>\n",
       "      <td>3096</td>\n",
       "      <td>3498</td>\n",
       "      <td>3088</td>\n",
       "      <td>3095</td>\n",
       "      <td>3473</td>\n",
       "      <td>2810</td>\n",
       "      <td>2785</td>\n",
       "      <td>3875</td>\n",
       "      <td>4171</td>\n",
       "      <td>2365</td>\n",
       "      <td>11</td>\n",
       "      <td>5174</td>\n",
       "    </tr>\n",
       "  </tbody>\n",
       "</table>\n",
       "</div>"
      ],
      "text/plain": [
       "        customerID gender Partner Dependents PhoneService MultipleLines  \\\n",
       "count         7043   7043    7043       7043         7043          7043   \n",
       "unique        7043      2       2          2            2             3   \n",
       "top     3331-HQDTW   Male      No         No          Yes            No   \n",
       "freq             1   3555    3641       4933         6361          3390   \n",
       "\n",
       "       InternetService OnlineSecurity OnlineBackup DeviceProtection  \\\n",
       "count             7043           7043         7043             7043   \n",
       "unique               3              3            3                3   \n",
       "top        Fiber optic             No           No               No   \n",
       "freq              3096           3498         3088             3095   \n",
       "\n",
       "       TechSupport StreamingTV StreamingMovies        Contract  \\\n",
       "count         7043        7043            7043            7043   \n",
       "unique           3           3               3               3   \n",
       "top             No          No              No  Month-to-month   \n",
       "freq          3473        2810            2785            3875   \n",
       "\n",
       "       PaperlessBilling     PaymentMethod TotalCharges Churn  \n",
       "count              7043              7043         7043  7043  \n",
       "unique                2                 4         6531     2  \n",
       "top                 Yes  Electronic check                 No  \n",
       "freq               4171              2365           11  5174  "
      ]
     },
     "execution_count": 9,
     "metadata": {},
     "output_type": "execute_result"
    }
   ],
   "source": [
    "df.describe(include=['object'])"
   ]
  },
  {
   "cell_type": "markdown",
   "metadata": {},
   "source": [
    "<b>Reviewing Categorical Variables</b>\n",
    "<p>It looks as though some of the columns should really be binary encoded values. These are columns which only contain two unique values. The most common ones we can see above are those that contain 'Yes' and 'No'. We can print out these columns relatively easily by iterating through the columns again. </p>"
   ]
  },
  {
   "cell_type": "code",
   "execution_count": 10,
   "metadata": {},
   "outputs": [
    {
     "data": {
      "text/plain": [
       "False"
      ]
     },
     "execution_count": 10,
     "metadata": {},
     "output_type": "execute_result"
    }
   ],
   "source": [
    "df['SeniorCitizen'].dtype =='object'"
   ]
  },
  {
   "cell_type": "code",
   "execution_count": 11,
   "metadata": {},
   "outputs": [
    {
     "name": "stdout",
     "output_type": "stream",
     "text": [
      "gender\n",
      "Partner\n",
      "Dependents\n",
      "PhoneService\n",
      "PaperlessBilling\n",
      "Churn\n"
     ]
    }
   ],
   "source": [
    "less_than_2 = []\n",
    "for col in df.columns:\n",
    "    if len(df[col].unique()) == 2 and df[col].dtype=='object':\n",
    "        print(col)\n",
    "        less_than_2.append(col)"
   ]
  },
  {
   "cell_type": "markdown",
   "metadata": {},
   "source": [
    "By appending these values to the array less_than_2, we can loop through these during the data preparation step and encode them into binary values. This process is also known as one-hot-encoding. "
   ]
  },
  {
   "cell_type": "code",
   "execution_count": 12,
   "metadata": {},
   "outputs": [
    {
     "data": {
      "text/plain": [
       "['gender',\n",
       " 'Partner',\n",
       " 'Dependents',\n",
       " 'PhoneService',\n",
       " 'PaperlessBilling',\n",
       " 'Churn']"
      ]
     },
     "execution_count": 12,
     "metadata": {},
     "output_type": "execute_result"
    }
   ],
   "source": [
    "less_than_2"
   ]
  },
  {
   "cell_type": "markdown",
   "metadata": {},
   "source": [
    "<b>Looking for Missing Values</b>\n",
    "<p>It's always good practice to review missing values. These will cause issues when we go to train our machine learning model later on so it's easier to know upfront if you're going to need to deal with them. We can chain two methods isnull() and sum() to get a count of the number of missing values there might be within our DataFrame.</p>"
   ]
  },
  {
   "cell_type": "code",
   "execution_count": 13,
   "metadata": {},
   "outputs": [
    {
     "data": {
      "text/plain": [
       "customerID          0\n",
       "gender              0\n",
       "SeniorCitizen       0\n",
       "Partner             0\n",
       "Dependents          0\n",
       "tenure              0\n",
       "PhoneService        0\n",
       "MultipleLines       0\n",
       "InternetService     0\n",
       "OnlineSecurity      0\n",
       "OnlineBackup        0\n",
       "DeviceProtection    0\n",
       "TechSupport         0\n",
       "StreamingTV         0\n",
       "StreamingMovies     0\n",
       "Contract            0\n",
       "PaperlessBilling    0\n",
       "PaymentMethod       0\n",
       "MonthlyCharges      0\n",
       "TotalCharges        0\n",
       "Churn               0\n",
       "dtype: int64"
      ]
     },
     "execution_count": 13,
     "metadata": {},
     "output_type": "execute_result"
    }
   ],
   "source": [
    "df.isnull().sum()"
   ]
  },
  {
   "cell_type": "markdown",
   "metadata": {},
   "source": [
    "<b>Visualising our dataframe</b>\n",
    "<p>It's always good practice to visualise your data while you're getting an understanding of what you're working with. It's hard to pick up errors or relationships without LOOKING at them.</p>"
   ]
  },
  {
   "cell_type": "code",
   "execution_count": 14,
   "metadata": {
    "collapsed": true
   },
   "outputs": [],
   "source": [
    "import seaborn as sns\n",
    "from matplotlib import pyplot as plt"
   ]
  },
  {
   "cell_type": "code",
   "execution_count": 15,
   "metadata": {},
   "outputs": [
    {
     "data": {
      "text/plain": [
       "<matplotlib.figure.Figure at 0x1a14ad02e8>"
      ]
     },
     "metadata": {},
     "output_type": "display_data"
    },
    {
     "data": {
      "image/png": "[encoded data removed]",
      "text/plain": [
       "<matplotlib.figure.Figure at 0x1079b5828>"
      ]
     },
     "metadata": {},
     "output_type": "display_data"
    }
   ],
   "source": [
    "plt.figure(figsize=(14,14))\n",
    "sns.pairplot(df)\n",
    "plt.show()"
   ]
  },
  {
   "cell_type": "markdown",
   "metadata": {},
   "source": [
    "Now, it's pretty obvious that we have some binary variables that haven't been encoded quite right. Not to worry we're going to fix this up and revisualise in the next lesson!"
   ]
  },
  {
   "cell_type": "markdown",
   "metadata": {},
   "source": [
    "<b>Summary</b>\n",
    "Alrighty, you're now a Data Understanding pro. Just to recap you went through how to:\n",
    "- Check the number of records using len()\n",
    "- Look at columns using df.columns\n",
    "- Review data types using df.dtypes\n",
    "- See unique values using df['column'].unique()\n",
    "- Generate summary statistics using df.describe() and df.describe(include=['object'])\n",
    "- Find null values using df.isnull().sum()\n",
    "- And last but not least visualised your data using sns.pairplot(df)\n",
    "\n",
    "Not a bad start!\n",
    "\n",
    "Stay tuned in the next lesson we're going to go through how to fix some of those issues we found during these steps!\n",
    "\n",
    "Your Friendly Neighbourhood Data Understander\n",
    "Nick\n",
    "\n",
    "P.s. Did you find any other issues in the data? Make a note of them so you're able to fix them during data preparation!\n"
   ]
  },
  {
   "cell_type": "markdown",
   "metadata": {},
   "source": [
    "# Data Preparation"
   ]
  },
  {
   "cell_type": "markdown",
   "metadata": {},
   "source": [
    "\"POW\"\n",
    "\n",
    "\"KAPOW\" \n",
    "\n",
    "\"YABLAMO\"\n",
    "\n",
    "That's the sound of you fighting off all those data errors. \n",
    "\n",
    "Wait...what, you ain't done that yet!\n",
    "\n",
    "Oh that's right we're doing it today. \n",
    "\n",
    "Get ready to hone your data wrangler lasso. \n",
    "\n",
    "We're about to get data fixin'"
   ]
  },
  {
   "cell_type": "markdown",
   "metadata": {},
   "source": [
    "<b>1. Fix up data types</b>\n",
    "<p>\n",
    "One of the biggest issues that you found yesterday was the fact that some of the feature columns were the wrong data type. \n",
    "<br />\n",
    "<br />\n",
    "There were a whole bunch (gender, SeniorCitizen, Partner, Dependents, PhoneService, PaperlessBilling, Churn) that should've been binary aka 1 or 0 instead of being Yes or No. \n",
    "<br />\n",
    "<br />\n",
    "On top of that, the TotalCharges should really have been number rather an a string. \n",
    "<br />\n",
    "<br />\n",
    "Now this just won't do. So we're going to have to fix it up. \n",
    "<br />\n",
    "<br />\n",
    "<b>Side Bar:</b> It's probably useful to point out that a HUGGEEE part of a Data Scientist's job is making sure you've got well formatted and cleaned data. \n",
    "<br />\n",
    "<br />\n",
    "<i>As they say \"Rubbish in, rubbish out\", the same goes for data science, \"Rubbish data, rubbish model\". </i>\n",
    "<br />\n",
    "<br />\n",
    "Alright, let's get cracking and fix this up. </p>"
   ]
  },
  {
   "cell_type": "markdown",
   "metadata": {},
   "source": [
    "The first thing we need to do is one hot encode the values that only have two variables. \n",
    "\n",
    "We need to do this in order to pass our data to the ML algorithms later on in the Modelling step of BDDMED. We're doing this step now to save memory during training. Eventually we'll one-hot-encode all the categorical variables but more on that later. \n",
    "\n",
    "We can one hot encode the columns with issues by looping through our array that held them (less_than_2) and using the .apply() method and lambda function to update each value within the column. "
   ]
  },
  {
   "cell_type": "code",
   "execution_count": 16,
   "metadata": {},
   "outputs": [
    {
     "data": {
      "text/plain": [
       "['gender',\n",
       " 'Partner',\n",
       " 'Dependents',\n",
       " 'PhoneService',\n",
       " 'PaperlessBilling',\n",
       " 'Churn']"
      ]
     },
     "execution_count": 16,
     "metadata": {},
     "output_type": "execute_result"
    }
   ],
   "source": [
    "less_than_2"
   ]
  },
  {
   "cell_type": "code",
   "execution_count": 17,
   "metadata": {
    "collapsed": true
   },
   "outputs": [],
   "source": [
    "for col in less_than_2:\n",
    "    if col == 'gender':\n",
    "        df[col] = df[col].apply(lambda x: 1 if x=='Female' else 0)\n",
    "    else:\n",
    "        df[col] = df[col].apply(lambda x: 1 if x=='Yes' else 0)"
   ]
  },
  {
   "cell_type": "markdown",
   "metadata": {},
   "source": [
    "And presto we've now updated the required columns to integers where needed. "
   ]
  },
  {
   "cell_type": "code",
   "execution_count": 18,
   "metadata": {},
   "outputs": [
    {
     "data": {
      "text/plain": [
       "customerID           object\n",
       "gender                int64\n",
       "SeniorCitizen         int64\n",
       "Partner               int64\n",
       "Dependents            int64\n",
       "tenure                int64\n",
       "PhoneService          int64\n",
       "MultipleLines        object\n",
       "InternetService      object\n",
       "OnlineSecurity       object\n",
       "OnlineBackup         object\n",
       "DeviceProtection     object\n",
       "TechSupport          object\n",
       "StreamingTV          object\n",
       "StreamingMovies      object\n",
       "Contract             object\n",
       "PaperlessBilling      int64\n",
       "PaymentMethod        object\n",
       "MonthlyCharges      float64\n",
       "TotalCharges         object\n",
       "Churn                 int64\n",
       "dtype: object"
      ]
     },
     "execution_count": 18,
     "metadata": {},
     "output_type": "execute_result"
    }
   ],
   "source": [
    "df.dtypes"
   ]
  },
  {
   "cell_type": "markdown",
   "metadata": {},
   "source": [
    "Now, if you take a quick look you can see that TotalCharges is still an object. We need to convert this to a float aka a number with decimal places. \n",
    "\n",
    "Before we can do that we need to update some blank values that are hiding within the dataset. You can see below that there are a bunch of rows that have a blank space as a value within the TotalCharges column. Before we try to convert the datatype we need to replace these with 0. "
   ]
  },
  {
   "cell_type": "code",
   "execution_count": 19,
   "metadata": {},
   "outputs": [
    {
     "data": {
      "text/html": [
       "<div>\n",
       "<style>\n",
       "    .dataframe thead tr:only-child th {\n",
       "        text-align: right;\n",
       "    }\n",
       "\n",
       "    .dataframe thead th {\n",
       "        text-align: left;\n",
       "    }\n",
       "\n",
       "    .dataframe tbody tr th {\n",
       "        vertical-align: top;\n",
       "    }\n",
       "</style>\n",
       "<table border=\"1\" class=\"dataframe\">\n",
       "  <thead>\n",
       "    <tr style=\"text-align: right;\">\n",
       "      <th></th>\n",
       "      <th>customerID</th>\n",
       "      <th>gender</th>\n",
       "      <th>SeniorCitizen</th>\n",
       "      <th>Partner</th>\n",
       "      <th>Dependents</th>\n",
       "      <th>tenure</th>\n",
       "      <th>PhoneService</th>\n",
       "      <th>MultipleLines</th>\n",
       "      <th>InternetService</th>\n",
       "      <th>OnlineSecurity</th>\n",
       "      <th>...</th>\n",
       "      <th>DeviceProtection</th>\n",
       "      <th>TechSupport</th>\n",
       "      <th>StreamingTV</th>\n",
       "      <th>StreamingMovies</th>\n",
       "      <th>Contract</th>\n",
       "      <th>PaperlessBilling</th>\n",
       "      <th>PaymentMethod</th>\n",
       "      <th>MonthlyCharges</th>\n",
       "      <th>TotalCharges</th>\n",
       "      <th>Churn</th>\n",
       "    </tr>\n",
       "  </thead>\n",
       "  <tbody>\n",
       "    <tr>\n",
       "      <th>488</th>\n",
       "      <td>4472-LVYGI</td>\n",
       "      <td>1</td>\n",
       "      <td>0</td>\n",
       "      <td>1</td>\n",
       "      <td>1</td>\n",
       "      <td>0</td>\n",
       "      <td>0</td>\n",
       "      <td>No phone service</td>\n",
       "      <td>DSL</td>\n",
       "      <td>Yes</td>\n",
       "      <td>...</td>\n",
       "      <td>Yes</td>\n",
       "      <td>Yes</td>\n",
       "      <td>Yes</td>\n",
       "      <td>No</td>\n",
       "      <td>Two year</td>\n",
       "      <td>1</td>\n",
       "      <td>Bank transfer (automatic)</td>\n",
       "      <td>52.55</td>\n",
       "      <td></td>\n",
       "      <td>0</td>\n",
       "    </tr>\n",
       "    <tr>\n",
       "      <th>753</th>\n",
       "      <td>3115-CZMZD</td>\n",
       "      <td>0</td>\n",
       "      <td>0</td>\n",
       "      <td>0</td>\n",
       "      <td>1</td>\n",
       "      <td>0</td>\n",
       "      <td>1</td>\n",
       "      <td>No</td>\n",
       "      <td>No</td>\n",
       "      <td>No internet service</td>\n",
       "      <td>...</td>\n",
       "      <td>No internet service</td>\n",
       "      <td>No internet service</td>\n",
       "      <td>No internet service</td>\n",
       "      <td>No internet service</td>\n",
       "      <td>Two year</td>\n",
       "      <td>0</td>\n",
       "      <td>Mailed check</td>\n",
       "      <td>20.25</td>\n",
       "      <td></td>\n",
       "      <td>0</td>\n",
       "    </tr>\n",
       "    <tr>\n",
       "      <th>936</th>\n",
       "      <td>5709-LVOEQ</td>\n",
       "      <td>1</td>\n",
       "      <td>0</td>\n",
       "      <td>1</td>\n",
       "      <td>1</td>\n",
       "      <td>0</td>\n",
       "      <td>1</td>\n",
       "      <td>No</td>\n",
       "      <td>DSL</td>\n",
       "      <td>Yes</td>\n",
       "      <td>...</td>\n",
       "      <td>Yes</td>\n",
       "      <td>No</td>\n",
       "      <td>Yes</td>\n",
       "      <td>Yes</td>\n",
       "      <td>Two year</td>\n",
       "      <td>0</td>\n",
       "      <td>Mailed check</td>\n",
       "      <td>80.85</td>\n",
       "      <td></td>\n",
       "      <td>0</td>\n",
       "    </tr>\n",
       "    <tr>\n",
       "      <th>1082</th>\n",
       "      <td>4367-NUYAO</td>\n",
       "      <td>0</td>\n",
       "      <td>0</td>\n",
       "      <td>1</td>\n",
       "      <td>1</td>\n",
       "      <td>0</td>\n",
       "      <td>1</td>\n",
       "      <td>Yes</td>\n",
       "      <td>No</td>\n",
       "      <td>No internet service</td>\n",
       "      <td>...</td>\n",
       "      <td>No internet service</td>\n",
       "      <td>No internet service</td>\n",
       "      <td>No internet service</td>\n",
       "      <td>No internet service</td>\n",
       "      <td>Two year</td>\n",
       "      <td>0</td>\n",
       "      <td>Mailed check</td>\n",
       "      <td>25.75</td>\n",
       "      <td></td>\n",
       "      <td>0</td>\n",
       "    </tr>\n",
       "    <tr>\n",
       "      <th>1340</th>\n",
       "      <td>1371-DWPAZ</td>\n",
       "      <td>1</td>\n",
       "      <td>0</td>\n",
       "      <td>1</td>\n",
       "      <td>1</td>\n",
       "      <td>0</td>\n",
       "      <td>0</td>\n",
       "      <td>No phone service</td>\n",
       "      <td>DSL</td>\n",
       "      <td>Yes</td>\n",
       "      <td>...</td>\n",
       "      <td>Yes</td>\n",
       "      <td>Yes</td>\n",
       "      <td>Yes</td>\n",
       "      <td>No</td>\n",
       "      <td>Two year</td>\n",
       "      <td>0</td>\n",
       "      <td>Credit card (automatic)</td>\n",
       "      <td>56.05</td>\n",
       "      <td></td>\n",
       "      <td>0</td>\n",
       "    </tr>\n",
       "  </tbody>\n",
       "</table>\n",
       "<p>5 rows × 21 columns</p>\n",
       "</div>"
      ],
      "text/plain": [
       "      customerID  gender  SeniorCitizen  Partner  Dependents  tenure  \\\n",
       "488   4472-LVYGI       1              0        1           1       0   \n",
       "753   3115-CZMZD       0              0        0           1       0   \n",
       "936   5709-LVOEQ       1              0        1           1       0   \n",
       "1082  4367-NUYAO       0              0        1           1       0   \n",
       "1340  1371-DWPAZ       1              0        1           1       0   \n",
       "\n",
       "      PhoneService     MultipleLines InternetService       OnlineSecurity  \\\n",
       "488              0  No phone service             DSL                  Yes   \n",
       "753              1                No              No  No internet service   \n",
       "936              1                No             DSL                  Yes   \n",
       "1082             1               Yes              No  No internet service   \n",
       "1340             0  No phone service             DSL                  Yes   \n",
       "\n",
       "      ...      DeviceProtection          TechSupport          StreamingTV  \\\n",
       "488   ...                   Yes                  Yes                  Yes   \n",
       "753   ...   No internet service  No internet service  No internet service   \n",
       "936   ...                   Yes                   No                  Yes   \n",
       "1082  ...   No internet service  No internet service  No internet service   \n",
       "1340  ...                   Yes                  Yes                  Yes   \n",
       "\n",
       "          StreamingMovies  Contract PaperlessBilling  \\\n",
       "488                    No  Two year                1   \n",
       "753   No internet service  Two year                0   \n",
       "936                   Yes  Two year                0   \n",
       "1082  No internet service  Two year                0   \n",
       "1340                   No  Two year                0   \n",
       "\n",
       "                  PaymentMethod MonthlyCharges  TotalCharges Churn  \n",
       "488   Bank transfer (automatic)          52.55                   0  \n",
       "753                Mailed check          20.25                   0  \n",
       "936                Mailed check          80.85                   0  \n",
       "1082               Mailed check          25.75                   0  \n",
       "1340    Credit card (automatic)          56.05                   0  \n",
       "\n",
       "[5 rows x 21 columns]"
      ]
     },
     "execution_count": 19,
     "metadata": {},
     "output_type": "execute_result"
    }
   ],
   "source": [
    "df[df['TotalCharges']==' '].head()"
   ]
  },
  {
   "cell_type": "code",
   "execution_count": 20,
   "metadata": {
    "collapsed": true
   },
   "outputs": [],
   "source": [
    "df['TotalCharges'].replace(' ', 0, inplace=True)"
   ]
  },
  {
   "cell_type": "markdown",
   "metadata": {},
   "source": [
    "Now we can see that those rows have now been updated, so there aren't any more rows with a ' ' value anymore. "
   ]
  },
  {
   "cell_type": "code",
   "execution_count": 21,
   "metadata": {},
   "outputs": [
    {
     "data": {
      "text/html": [
       "<div>\n",
       "<style>\n",
       "    .dataframe thead tr:only-child th {\n",
       "        text-align: right;\n",
       "    }\n",
       "\n",
       "    .dataframe thead th {\n",
       "        text-align: left;\n",
       "    }\n",
       "\n",
       "    .dataframe tbody tr th {\n",
       "        vertical-align: top;\n",
       "    }\n",
       "</style>\n",
       "<table border=\"1\" class=\"dataframe\">\n",
       "  <thead>\n",
       "    <tr style=\"text-align: right;\">\n",
       "      <th></th>\n",
       "      <th>customerID</th>\n",
       "      <th>gender</th>\n",
       "      <th>SeniorCitizen</th>\n",
       "      <th>Partner</th>\n",
       "      <th>Dependents</th>\n",
       "      <th>tenure</th>\n",
       "      <th>PhoneService</th>\n",
       "      <th>MultipleLines</th>\n",
       "      <th>InternetService</th>\n",
       "      <th>OnlineSecurity</th>\n",
       "      <th>...</th>\n",
       "      <th>DeviceProtection</th>\n",
       "      <th>TechSupport</th>\n",
       "      <th>StreamingTV</th>\n",
       "      <th>StreamingMovies</th>\n",
       "      <th>Contract</th>\n",
       "      <th>PaperlessBilling</th>\n",
       "      <th>PaymentMethod</th>\n",
       "      <th>MonthlyCharges</th>\n",
       "      <th>TotalCharges</th>\n",
       "      <th>Churn</th>\n",
       "    </tr>\n",
       "  </thead>\n",
       "  <tbody>\n",
       "  </tbody>\n",
       "</table>\n",
       "<p>0 rows × 21 columns</p>\n",
       "</div>"
      ],
      "text/plain": [
       "Empty DataFrame\n",
       "Columns: [customerID, gender, SeniorCitizen, Partner, Dependents, tenure, PhoneService, MultipleLines, InternetService, OnlineSecurity, OnlineBackup, DeviceProtection, TechSupport, StreamingTV, StreamingMovies, Contract, PaperlessBilling, PaymentMethod, MonthlyCharges, TotalCharges, Churn]\n",
       "Index: []\n",
       "\n",
       "[0 rows x 21 columns]"
      ]
     },
     "execution_count": 21,
     "metadata": {},
     "output_type": "execute_result"
    }
   ],
   "source": [
    "df[df['TotalCharges']==' ']"
   ]
  },
  {
   "cell_type": "markdown",
   "metadata": {},
   "source": [
    "Onto the last step we can cast the TotalCharges column to a float using the .astype() method. "
   ]
  },
  {
   "cell_type": "code",
   "execution_count": 22,
   "metadata": {
    "collapsed": true
   },
   "outputs": [],
   "source": [
    "df['TotalCharges'] = df['TotalCharges'].astype(float)"
   ]
  },
  {
   "cell_type": "markdown",
   "metadata": {},
   "source": [
    "Annnnnnd we're done for that step. You can see below that Total Charges is now showing up as a float. "
   ]
  },
  {
   "cell_type": "code",
   "execution_count": 23,
   "metadata": {},
   "outputs": [
    {
     "data": {
      "text/plain": [
       "customerID           object\n",
       "gender                int64\n",
       "SeniorCitizen         int64\n",
       "Partner               int64\n",
       "Dependents            int64\n",
       "tenure                int64\n",
       "PhoneService          int64\n",
       "MultipleLines        object\n",
       "InternetService      object\n",
       "OnlineSecurity       object\n",
       "OnlineBackup         object\n",
       "DeviceProtection     object\n",
       "TechSupport          object\n",
       "StreamingTV          object\n",
       "StreamingMovies      object\n",
       "Contract             object\n",
       "PaperlessBilling      int64\n",
       "PaymentMethod        object\n",
       "MonthlyCharges      float64\n",
       "TotalCharges        float64\n",
       "Churn                 int64\n",
       "dtype: object"
      ]
     },
     "execution_count": 23,
     "metadata": {},
     "output_type": "execute_result"
    }
   ],
   "source": [
    "df.dtypes"
   ]
  },
  {
   "cell_type": "markdown",
   "metadata": {},
   "source": [
    "<b>Side Bar:</b> <br /> \n",
    "Now that we've got our data in a better state. We can actually perform some more useful analysis. This is common in data science, you might have to perform some quick data preparation to get a better handle on data understanding. It's meant to be an ITERATIVE process. \n",
    "\n",
    "A really quick bit of analysis you can do is to look at correlation between the feature columns (everything except Churn) and our target (Churn) using the .corr() method. "
   ]
  },
  {
   "cell_type": "code",
   "execution_count": 24,
   "metadata": {},
   "outputs": [
    {
     "data": {
      "text/html": [
       "<div>\n",
       "<style>\n",
       "    .dataframe thead tr:only-child th {\n",
       "        text-align: right;\n",
       "    }\n",
       "\n",
       "    .dataframe thead th {\n",
       "        text-align: left;\n",
       "    }\n",
       "\n",
       "    .dataframe tbody tr th {\n",
       "        vertical-align: top;\n",
       "    }\n",
       "</style>\n",
       "<table border=\"1\" class=\"dataframe\">\n",
       "  <thead>\n",
       "    <tr style=\"text-align: right;\">\n",
       "      <th></th>\n",
       "      <th>gender</th>\n",
       "      <th>SeniorCitizen</th>\n",
       "      <th>Partner</th>\n",
       "      <th>Dependents</th>\n",
       "      <th>tenure</th>\n",
       "      <th>PhoneService</th>\n",
       "      <th>PaperlessBilling</th>\n",
       "      <th>MonthlyCharges</th>\n",
       "      <th>TotalCharges</th>\n",
       "      <th>Churn</th>\n",
       "    </tr>\n",
       "  </thead>\n",
       "  <tbody>\n",
       "    <tr>\n",
       "      <th>gender</th>\n",
       "      <td>1.000000</td>\n",
       "      <td>0.001874</td>\n",
       "      <td>0.001808</td>\n",
       "      <td>-0.010517</td>\n",
       "      <td>-0.005106</td>\n",
       "      <td>0.006488</td>\n",
       "      <td>0.011754</td>\n",
       "      <td>0.014569</td>\n",
       "      <td>0.000080</td>\n",
       "      <td>0.008612</td>\n",
       "    </tr>\n",
       "    <tr>\n",
       "      <th>SeniorCitizen</th>\n",
       "      <td>0.001874</td>\n",
       "      <td>1.000000</td>\n",
       "      <td>0.016479</td>\n",
       "      <td>-0.211185</td>\n",
       "      <td>0.016567</td>\n",
       "      <td>0.008576</td>\n",
       "      <td>0.156530</td>\n",
       "      <td>0.220173</td>\n",
       "      <td>0.103006</td>\n",
       "      <td>0.150889</td>\n",
       "    </tr>\n",
       "    <tr>\n",
       "      <th>Partner</th>\n",
       "      <td>0.001808</td>\n",
       "      <td>0.016479</td>\n",
       "      <td>1.000000</td>\n",
       "      <td>0.452676</td>\n",
       "      <td>0.379697</td>\n",
       "      <td>0.017706</td>\n",
       "      <td>-0.014877</td>\n",
       "      <td>0.096848</td>\n",
       "      <td>0.317504</td>\n",
       "      <td>-0.150448</td>\n",
       "    </tr>\n",
       "    <tr>\n",
       "      <th>Dependents</th>\n",
       "      <td>-0.010517</td>\n",
       "      <td>-0.211185</td>\n",
       "      <td>0.452676</td>\n",
       "      <td>1.000000</td>\n",
       "      <td>0.159712</td>\n",
       "      <td>-0.001762</td>\n",
       "      <td>-0.111377</td>\n",
       "      <td>-0.113890</td>\n",
       "      <td>0.062078</td>\n",
       "      <td>-0.164221</td>\n",
       "    </tr>\n",
       "    <tr>\n",
       "      <th>tenure</th>\n",
       "      <td>-0.005106</td>\n",
       "      <td>0.016567</td>\n",
       "      <td>0.379697</td>\n",
       "      <td>0.159712</td>\n",
       "      <td>1.000000</td>\n",
       "      <td>0.008448</td>\n",
       "      <td>0.006152</td>\n",
       "      <td>0.247900</td>\n",
       "      <td>0.826178</td>\n",
       "      <td>-0.352229</td>\n",
       "    </tr>\n",
       "    <tr>\n",
       "      <th>PhoneService</th>\n",
       "      <td>0.006488</td>\n",
       "      <td>0.008576</td>\n",
       "      <td>0.017706</td>\n",
       "      <td>-0.001762</td>\n",
       "      <td>0.008448</td>\n",
       "      <td>1.000000</td>\n",
       "      <td>0.016505</td>\n",
       "      <td>0.247398</td>\n",
       "      <td>0.113214</td>\n",
       "      <td>0.011942</td>\n",
       "    </tr>\n",
       "    <tr>\n",
       "      <th>PaperlessBilling</th>\n",
       "      <td>0.011754</td>\n",
       "      <td>0.156530</td>\n",
       "      <td>-0.014877</td>\n",
       "      <td>-0.111377</td>\n",
       "      <td>0.006152</td>\n",
       "      <td>0.016505</td>\n",
       "      <td>1.000000</td>\n",
       "      <td>0.352150</td>\n",
       "      <td>0.158574</td>\n",
       "      <td>0.191825</td>\n",
       "    </tr>\n",
       "    <tr>\n",
       "      <th>MonthlyCharges</th>\n",
       "      <td>0.014569</td>\n",
       "      <td>0.220173</td>\n",
       "      <td>0.096848</td>\n",
       "      <td>-0.113890</td>\n",
       "      <td>0.247900</td>\n",
       "      <td>0.247398</td>\n",
       "      <td>0.352150</td>\n",
       "      <td>1.000000</td>\n",
       "      <td>0.651174</td>\n",
       "      <td>0.193356</td>\n",
       "    </tr>\n",
       "    <tr>\n",
       "      <th>TotalCharges</th>\n",
       "      <td>0.000080</td>\n",
       "      <td>0.103006</td>\n",
       "      <td>0.317504</td>\n",
       "      <td>0.062078</td>\n",
       "      <td>0.826178</td>\n",
       "      <td>0.113214</td>\n",
       "      <td>0.158574</td>\n",
       "      <td>0.651174</td>\n",
       "      <td>1.000000</td>\n",
       "      <td>-0.198324</td>\n",
       "    </tr>\n",
       "    <tr>\n",
       "      <th>Churn</th>\n",
       "      <td>0.008612</td>\n",
       "      <td>0.150889</td>\n",
       "      <td>-0.150448</td>\n",
       "      <td>-0.164221</td>\n",
       "      <td>-0.352229</td>\n",
       "      <td>0.011942</td>\n",
       "      <td>0.191825</td>\n",
       "      <td>0.193356</td>\n",
       "      <td>-0.198324</td>\n",
       "      <td>1.000000</td>\n",
       "    </tr>\n",
       "  </tbody>\n",
       "</table>\n",
       "</div>"
      ],
      "text/plain": [
       "                    gender  SeniorCitizen   Partner  Dependents    tenure  \\\n",
       "gender            1.000000       0.001874  0.001808   -0.010517 -0.005106   \n",
       "SeniorCitizen     0.001874       1.000000  0.016479   -0.211185  0.016567   \n",
       "Partner           0.001808       0.016479  1.000000    0.452676  0.379697   \n",
       "Dependents       -0.010517      -0.211185  0.452676    1.000000  0.159712   \n",
       "tenure           -0.005106       0.016567  0.379697    0.159712  1.000000   \n",
       "PhoneService      0.006488       0.008576  0.017706   -0.001762  0.008448   \n",
       "PaperlessBilling  0.011754       0.156530 -0.014877   -0.111377  0.006152   \n",
       "MonthlyCharges    0.014569       0.220173  0.096848   -0.113890  0.247900   \n",
       "TotalCharges      0.000080       0.103006  0.317504    0.062078  0.826178   \n",
       "Churn             0.008612       0.150889 -0.150448   -0.164221 -0.352229   \n",
       "\n",
       "                  PhoneService  PaperlessBilling  MonthlyCharges  \\\n",
       "gender                0.006488          0.011754        0.014569   \n",
       "SeniorCitizen         0.008576          0.156530        0.220173   \n",
       "Partner               0.017706         -0.014877        0.096848   \n",
       "Dependents           -0.001762         -0.111377       -0.113890   \n",
       "tenure                0.008448          0.006152        0.247900   \n",
       "PhoneService          1.000000          0.016505        0.247398   \n",
       "PaperlessBilling      0.016505          1.000000        0.352150   \n",
       "MonthlyCharges        0.247398          0.352150        1.000000   \n",
       "TotalCharges          0.113214          0.158574        0.651174   \n",
       "Churn                 0.011942          0.191825        0.193356   \n",
       "\n",
       "                  TotalCharges     Churn  \n",
       "gender                0.000080  0.008612  \n",
       "SeniorCitizen         0.103006  0.150889  \n",
       "Partner               0.317504 -0.150448  \n",
       "Dependents            0.062078 -0.164221  \n",
       "tenure                0.826178 -0.352229  \n",
       "PhoneService          0.113214  0.011942  \n",
       "PaperlessBilling      0.158574  0.191825  \n",
       "MonthlyCharges        0.651174  0.193356  \n",
       "TotalCharges          1.000000 -0.198324  \n",
       "Churn                -0.198324  1.000000  "
      ]
     },
     "execution_count": 24,
     "metadata": {},
     "output_type": "execute_result"
    }
   ],
   "source": [
    "df.corr()"
   ]
  },
  {
   "cell_type": "markdown",
   "metadata": {},
   "source": [
    "That's a heap of numbers amirite? \n",
    "\n",
    "It's a whole heap easier to visualise this using our trusty old friend seaborn. \n",
    "\n",
    "You can use the seaborn heatmap to visualise correlation. "
   ]
  },
  {
   "cell_type": "code",
   "execution_count": 25,
   "metadata": {},
   "outputs": [
    {
     "data": {
      "image/png": "[encoded data removed]",
      "text/plain": [
       "<matplotlib.figure.Figure at 0x1a1702b400>"
      ]
     },
     "metadata": {},
     "output_type": "display_data"
    }
   ],
   "source": [
    "plt.figure(figsize=(9,9))\n",
    "sns.heatmap(df.corr())\n",
    "plt.show()"
   ]
  },
  {
   "cell_type": "markdown",
   "metadata": {},
   "source": [
    "You can see that tensure and TotalCharges are relatively negatively correlated with Churn. Meaning that historically customers that have stayed for a long time and have spent a larger amount of money are more likely to stick with the company."
   ]
  },
  {
   "cell_type": "markdown",
   "metadata": {},
   "source": [
    "<B>2. Dropping identifier columns</B><br />\n",
    "Now one of the things that we noticed when checking counts on the feature columns was that the customerID column had completely unique features. \n",
    "\n",
    "Now, for our purposes we don't need a unique identifier column...so we're going to drop it like it's hot.  "
   ]
  },
  {
   "cell_type": "code",
   "execution_count": 26,
   "metadata": {
    "collapsed": true
   },
   "outputs": [],
   "source": [
    "df.drop('customerID', axis=1, inplace=True)"
   ]
  },
  {
   "cell_type": "markdown",
   "metadata": {},
   "source": [
    "Annnd, it's gone. "
   ]
  },
  {
   "cell_type": "code",
   "execution_count": 27,
   "metadata": {},
   "outputs": [
    {
     "data": {
      "text/plain": [
       "Index(['gender', 'SeniorCitizen', 'Partner', 'Dependents', 'tenure',\n",
       "       'PhoneService', 'MultipleLines', 'InternetService', 'OnlineSecurity',\n",
       "       'OnlineBackup', 'DeviceProtection', 'TechSupport', 'StreamingTV',\n",
       "       'StreamingMovies', 'Contract', 'PaperlessBilling', 'PaymentMethod',\n",
       "       'MonthlyCharges', 'TotalCharges', 'Churn'],\n",
       "      dtype='object')"
      ]
     },
     "execution_count": 27,
     "metadata": {},
     "output_type": "execute_result"
    }
   ],
   "source": [
    "df.columns"
   ]
  },
  {
   "cell_type": "markdown",
   "metadata": {},
   "source": [
    "<b>3. One-Hot Encoding The Rest of the Variables</b>\n",
    "Remember when I said we were going to talk more about one-hot encoding categorical columns. \n",
    "\n",
    "Well...\n",
    "\n",
    "THE TIME IS NOW. \n",
    "\n",
    "The machine learning algorithms that we're using can't handle text based values. So, what we do to get around this is to one-hot encode them. \n",
    "\n",
    "...\n",
    "\n",
    "<i>\"What the hell does that mean?\"</i> \n",
    "\n",
    "Let's demonstrate. One of the columns that we've got in our feature set is called MultipleLines. This feature tells us whether or not the customer has multiple phone lines with our client. Soooo...if we take a look at the values in that column we can see that there are three unique values. "
   ]
  },
  {
   "cell_type": "code",
   "execution_count": 28,
   "metadata": {},
   "outputs": [
    {
     "data": {
      "text/plain": [
       "array(['No phone service', 'No', 'Yes'], dtype=object)"
      ]
     },
     "execution_count": 28,
     "metadata": {},
     "output_type": "execute_result"
    }
   ],
   "source": [
    "df['MultipleLines'].unique()"
   ]
  },
  {
   "cell_type": "markdown",
   "metadata": {},
   "source": [
    "These are 'No phone service', 'No' and 'Yes'. Now, we can just do what we did with the categorical features that had 2 unqiue values because what would we set the third value to be? \n",
    "\n",
    "We can't set it to 2 as that would apply magnitude to our feature rather than leaving it as binary. \n",
    "\n",
    "What we can do however is one-hot-encode the column. This will create a new column for each unique value (No, Yes, No phone service) and set the value to 1 or 0 depending on what category that row fell into. \n",
    "\n",
    "This can be done using the .get_dummies() method from Pandas. "
   ]
  },
  {
   "cell_type": "code",
   "execution_count": 29,
   "metadata": {},
   "outputs": [
    {
     "data": {
      "text/html": [
       "<div>\n",
       "<style>\n",
       "    .dataframe thead tr:only-child th {\n",
       "        text-align: right;\n",
       "    }\n",
       "\n",
       "    .dataframe thead th {\n",
       "        text-align: left;\n",
       "    }\n",
       "\n",
       "    .dataframe tbody tr th {\n",
       "        vertical-align: top;\n",
       "    }\n",
       "</style>\n",
       "<table border=\"1\" class=\"dataframe\">\n",
       "  <thead>\n",
       "    <tr style=\"text-align: right;\">\n",
       "      <th></th>\n",
       "      <th>No</th>\n",
       "      <th>No phone service</th>\n",
       "      <th>Yes</th>\n",
       "    </tr>\n",
       "  </thead>\n",
       "  <tbody>\n",
       "    <tr>\n",
       "      <th>0</th>\n",
       "      <td>0</td>\n",
       "      <td>1</td>\n",
       "      <td>0</td>\n",
       "    </tr>\n",
       "    <tr>\n",
       "      <th>1</th>\n",
       "      <td>1</td>\n",
       "      <td>0</td>\n",
       "      <td>0</td>\n",
       "    </tr>\n",
       "    <tr>\n",
       "      <th>2</th>\n",
       "      <td>1</td>\n",
       "      <td>0</td>\n",
       "      <td>0</td>\n",
       "    </tr>\n",
       "    <tr>\n",
       "      <th>3</th>\n",
       "      <td>0</td>\n",
       "      <td>1</td>\n",
       "      <td>0</td>\n",
       "    </tr>\n",
       "    <tr>\n",
       "      <th>4</th>\n",
       "      <td>1</td>\n",
       "      <td>0</td>\n",
       "      <td>0</td>\n",
       "    </tr>\n",
       "  </tbody>\n",
       "</table>\n",
       "</div>"
      ],
      "text/plain": [
       "   No  No phone service  Yes\n",
       "0   0                 1    0\n",
       "1   1                 0    0\n",
       "2   1                 0    0\n",
       "3   0                 1    0\n",
       "4   1                 0    0"
      ]
     },
     "execution_count": 29,
     "metadata": {},
     "output_type": "execute_result"
    }
   ],
   "source": [
    "pd.get_dummies(df['MultipleLines']).head()"
   ]
  },
  {
   "cell_type": "markdown",
   "metadata": {},
   "source": [
    "See the difference? We've now converted the categorical features into a format that the algorithms will be able to understand. We can do this to our entire DataFrame as well. "
   ]
  },
  {
   "cell_type": "code",
   "execution_count": 30,
   "metadata": {
    "collapsed": true
   },
   "outputs": [],
   "source": [
    "abt = pd.get_dummies(df)"
   ]
  },
  {
   "cell_type": "code",
   "execution_count": 31,
   "metadata": {},
   "outputs": [
    {
     "data": {
      "text/html": [
       "<div>\n",
       "<style>\n",
       "    .dataframe thead tr:only-child th {\n",
       "        text-align: right;\n",
       "    }\n",
       "\n",
       "    .dataframe thead th {\n",
       "        text-align: left;\n",
       "    }\n",
       "\n",
       "    .dataframe tbody tr th {\n",
       "        vertical-align: top;\n",
       "    }\n",
       "</style>\n",
       "<table border=\"1\" class=\"dataframe\">\n",
       "  <thead>\n",
       "    <tr style=\"text-align: right;\">\n",
       "      <th></th>\n",
       "      <th>gender</th>\n",
       "      <th>SeniorCitizen</th>\n",
       "      <th>Partner</th>\n",
       "      <th>Dependents</th>\n",
       "      <th>tenure</th>\n",
       "      <th>PhoneService</th>\n",
       "      <th>PaperlessBilling</th>\n",
       "      <th>MonthlyCharges</th>\n",
       "      <th>TotalCharges</th>\n",
       "      <th>Churn</th>\n",
       "      <th>...</th>\n",
       "      <th>StreamingMovies_No</th>\n",
       "      <th>StreamingMovies_No internet service</th>\n",
       "      <th>StreamingMovies_Yes</th>\n",
       "      <th>Contract_Month-to-month</th>\n",
       "      <th>Contract_One year</th>\n",
       "      <th>Contract_Two year</th>\n",
       "      <th>PaymentMethod_Bank transfer (automatic)</th>\n",
       "      <th>PaymentMethod_Credit card (automatic)</th>\n",
       "      <th>PaymentMethod_Electronic check</th>\n",
       "      <th>PaymentMethod_Mailed check</th>\n",
       "    </tr>\n",
       "  </thead>\n",
       "  <tbody>\n",
       "    <tr>\n",
       "      <th>0</th>\n",
       "      <td>1</td>\n",
       "      <td>0</td>\n",
       "      <td>1</td>\n",
       "      <td>0</td>\n",
       "      <td>1</td>\n",
       "      <td>0</td>\n",
       "      <td>1</td>\n",
       "      <td>29.85</td>\n",
       "      <td>29.85</td>\n",
       "      <td>0</td>\n",
       "      <td>...</td>\n",
       "      <td>1</td>\n",
       "      <td>0</td>\n",
       "      <td>0</td>\n",
       "      <td>1</td>\n",
       "      <td>0</td>\n",
       "      <td>0</td>\n",
       "      <td>0</td>\n",
       "      <td>0</td>\n",
       "      <td>1</td>\n",
       "      <td>0</td>\n",
       "    </tr>\n",
       "    <tr>\n",
       "      <th>1</th>\n",
       "      <td>0</td>\n",
       "      <td>0</td>\n",
       "      <td>0</td>\n",
       "      <td>0</td>\n",
       "      <td>34</td>\n",
       "      <td>1</td>\n",
       "      <td>0</td>\n",
       "      <td>56.95</td>\n",
       "      <td>1889.50</td>\n",
       "      <td>0</td>\n",
       "      <td>...</td>\n",
       "      <td>1</td>\n",
       "      <td>0</td>\n",
       "      <td>0</td>\n",
       "      <td>0</td>\n",
       "      <td>1</td>\n",
       "      <td>0</td>\n",
       "      <td>0</td>\n",
       "      <td>0</td>\n",
       "      <td>0</td>\n",
       "      <td>1</td>\n",
       "    </tr>\n",
       "    <tr>\n",
       "      <th>2</th>\n",
       "      <td>0</td>\n",
       "      <td>0</td>\n",
       "      <td>0</td>\n",
       "      <td>0</td>\n",
       "      <td>2</td>\n",
       "      <td>1</td>\n",
       "      <td>1</td>\n",
       "      <td>53.85</td>\n",
       "      <td>108.15</td>\n",
       "      <td>1</td>\n",
       "      <td>...</td>\n",
       "      <td>1</td>\n",
       "      <td>0</td>\n",
       "      <td>0</td>\n",
       "      <td>1</td>\n",
       "      <td>0</td>\n",
       "      <td>0</td>\n",
       "      <td>0</td>\n",
       "      <td>0</td>\n",
       "      <td>0</td>\n",
       "      <td>1</td>\n",
       "    </tr>\n",
       "    <tr>\n",
       "      <th>3</th>\n",
       "      <td>0</td>\n",
       "      <td>0</td>\n",
       "      <td>0</td>\n",
       "      <td>0</td>\n",
       "      <td>45</td>\n",
       "      <td>0</td>\n",
       "      <td>0</td>\n",
       "      <td>42.30</td>\n",
       "      <td>1840.75</td>\n",
       "      <td>0</td>\n",
       "      <td>...</td>\n",
       "      <td>1</td>\n",
       "      <td>0</td>\n",
       "      <td>0</td>\n",
       "      <td>0</td>\n",
       "      <td>1</td>\n",
       "      <td>0</td>\n",
       "      <td>1</td>\n",
       "      <td>0</td>\n",
       "      <td>0</td>\n",
       "      <td>0</td>\n",
       "    </tr>\n",
       "    <tr>\n",
       "      <th>4</th>\n",
       "      <td>1</td>\n",
       "      <td>0</td>\n",
       "      <td>0</td>\n",
       "      <td>0</td>\n",
       "      <td>2</td>\n",
       "      <td>1</td>\n",
       "      <td>1</td>\n",
       "      <td>70.70</td>\n",
       "      <td>151.65</td>\n",
       "      <td>1</td>\n",
       "      <td>...</td>\n",
       "      <td>1</td>\n",
       "      <td>0</td>\n",
       "      <td>0</td>\n",
       "      <td>1</td>\n",
       "      <td>0</td>\n",
       "      <td>0</td>\n",
       "      <td>0</td>\n",
       "      <td>0</td>\n",
       "      <td>1</td>\n",
       "      <td>0</td>\n",
       "    </tr>\n",
       "  </tbody>\n",
       "</table>\n",
       "<p>5 rows × 41 columns</p>\n",
       "</div>"
      ],
      "text/plain": [
       "   gender  SeniorCitizen  Partner  Dependents  tenure  PhoneService  \\\n",
       "0       1              0        1           0       1             0   \n",
       "1       0              0        0           0      34             1   \n",
       "2       0              0        0           0       2             1   \n",
       "3       0              0        0           0      45             0   \n",
       "4       1              0        0           0       2             1   \n",
       "\n",
       "   PaperlessBilling  MonthlyCharges  TotalCharges  Churn  \\\n",
       "0                 1           29.85         29.85      0   \n",
       "1                 0           56.95       1889.50      0   \n",
       "2                 1           53.85        108.15      1   \n",
       "3                 0           42.30       1840.75      0   \n",
       "4                 1           70.70        151.65      1   \n",
       "\n",
       "              ...              StreamingMovies_No  \\\n",
       "0             ...                               1   \n",
       "1             ...                               1   \n",
       "2             ...                               1   \n",
       "3             ...                               1   \n",
       "4             ...                               1   \n",
       "\n",
       "   StreamingMovies_No internet service  StreamingMovies_Yes  \\\n",
       "0                                    0                    0   \n",
       "1                                    0                    0   \n",
       "2                                    0                    0   \n",
       "3                                    0                    0   \n",
       "4                                    0                    0   \n",
       "\n",
       "   Contract_Month-to-month  Contract_One year  Contract_Two year  \\\n",
       "0                        1                  0                  0   \n",
       "1                        0                  1                  0   \n",
       "2                        1                  0                  0   \n",
       "3                        0                  1                  0   \n",
       "4                        1                  0                  0   \n",
       "\n",
       "   PaymentMethod_Bank transfer (automatic)  \\\n",
       "0                                        0   \n",
       "1                                        0   \n",
       "2                                        0   \n",
       "3                                        1   \n",
       "4                                        0   \n",
       "\n",
       "   PaymentMethod_Credit card (automatic)  PaymentMethod_Electronic check  \\\n",
       "0                                      0                               1   \n",
       "1                                      0                               0   \n",
       "2                                      0                               0   \n",
       "3                                      0                               0   \n",
       "4                                      0                               1   \n",
       "\n",
       "   PaymentMethod_Mailed check  \n",
       "0                           0  \n",
       "1                           1  \n",
       "2                           1  \n",
       "3                           0  \n",
       "4                           0  \n",
       "\n",
       "[5 rows x 41 columns]"
      ]
     },
     "execution_count": 31,
     "metadata": {},
     "output_type": "execute_result"
    }
   ],
   "source": [
    "abt.head()"
   ]
  },
  {
   "cell_type": "code",
   "execution_count": 32,
   "metadata": {
    "scrolled": true
   },
   "outputs": [
    {
     "data": {
      "text/plain": [
       "gender                                       int64\n",
       "SeniorCitizen                                int64\n",
       "Partner                                      int64\n",
       "Dependents                                   int64\n",
       "tenure                                       int64\n",
       "PhoneService                                 int64\n",
       "PaperlessBilling                             int64\n",
       "MonthlyCharges                             float64\n",
       "TotalCharges                               float64\n",
       "Churn                                        int64\n",
       "MultipleLines_No                             uint8\n",
       "MultipleLines_No phone service               uint8\n",
       "MultipleLines_Yes                            uint8\n",
       "InternetService_DSL                          uint8\n",
       "InternetService_Fiber optic                  uint8\n",
       "InternetService_No                           uint8\n",
       "OnlineSecurity_No                            uint8\n",
       "OnlineSecurity_No internet service           uint8\n",
       "OnlineSecurity_Yes                           uint8\n",
       "OnlineBackup_No                              uint8\n",
       "OnlineBackup_No internet service             uint8\n",
       "OnlineBackup_Yes                             uint8\n",
       "DeviceProtection_No                          uint8\n",
       "DeviceProtection_No internet service         uint8\n",
       "DeviceProtection_Yes                         uint8\n",
       "TechSupport_No                               uint8\n",
       "TechSupport_No internet service              uint8\n",
       "TechSupport_Yes                              uint8\n",
       "StreamingTV_No                               uint8\n",
       "StreamingTV_No internet service              uint8\n",
       "StreamingTV_Yes                              uint8\n",
       "StreamingMovies_No                           uint8\n",
       "StreamingMovies_No internet service          uint8\n",
       "StreamingMovies_Yes                          uint8\n",
       "Contract_Month-to-month                      uint8\n",
       "Contract_One year                            uint8\n",
       "Contract_Two year                            uint8\n",
       "PaymentMethod_Bank transfer (automatic)      uint8\n",
       "PaymentMethod_Credit card (automatic)        uint8\n",
       "PaymentMethod_Electronic check               uint8\n",
       "PaymentMethod_Mailed check                   uint8\n",
       "dtype: object"
      ]
     },
     "execution_count": 32,
     "metadata": {},
     "output_type": "execute_result"
    }
   ],
   "source": [
    "abt.dtypes"
   ]
  },
  {
   "cell_type": "markdown",
   "metadata": {},
   "source": [
    "<b>4. Create training and testing datasets</b> <br /> \n",
    "Now that we've done all of our data preparation there's just two steps left. We need to separate our data into the feature columns and our target like so..."
   ]
  },
  {
   "cell_type": "code",
   "execution_count": 33,
   "metadata": {
    "collapsed": true
   },
   "outputs": [],
   "source": [
    "y = abt['TotalCharges']\n",
    "X = abt.drop('TotalCharges', axis=1)"
   ]
  },
  {
   "cell_type": "markdown",
   "metadata": {},
   "source": [
    "And then we need to split our data into training and testing. This helps evaluate how our model will perform in the real world and helps us balance the bias/variance trade off. We can do this with the help of the train_test_split function from scikit learn. "
   ]
  },
  {
   "cell_type": "code",
   "execution_count": 36,
   "metadata": {
    "collapsed": true
   },
   "outputs": [],
   "source": [
    "random_state=1234"
   ]
  },
  {
   "cell_type": "code",
   "execution_count": 37,
   "metadata": {
    "collapsed": true
   },
   "outputs": [],
   "source": [
    "from sklearn.model_selection import train_test_split\n",
    "X_train, X_test, y_train, y_test = train_test_split(X,y, test_size=0.3, random_state=random_state)"
   ]
  },
  {
   "cell_type": "code",
   "execution_count": 38,
   "metadata": {},
   "outputs": [
    {
     "name": "stdout",
     "output_type": "stream",
     "text": [
      "4930 2113 4930 2113\n"
     ]
    }
   ],
   "source": [
    "print(len(X_train), len(X_test), len(y_train), len(y_test))"
   ]
  },
  {
   "cell_type": "markdown",
   "metadata": {},
   "source": [
    "Phew...that's a wrap...your data preparation days are done...for today. \n",
    "\n",
    "Just to reflect on how much you crushed it...here's what you did:\n",
    "- Fixed up all the data types\n",
    "- One-hot-encoded your dataset using pandas get_dummies\n",
    "- Created the training and testing dataset for modelling\n",
    "- Performed pearsons correlation analysis and visualisation\n",
    "\n",
    "Get excited....for tomorrow....we march into the land of....\n",
    "\n",
    "*INSERT DRUMROLL HERE*\n",
    "\n",
    "<b>ALGORITHMS!</b>\n",
    "\n",
    "You'll get to start throwing your data at some cutting edge machine learning algorithms and start building some models. \n",
    "\n",
    "See ya tomorrow!\n",
    "\n",
    "Your Human Data Preparator, <br />\n",
    "Nick"
   ]
  },
  {
   "cell_type": "markdown",
   "metadata": {},
   "source": [
    "# Modelling"
   ]
  },
  {
   "cell_type": "markdown",
   "metadata": {},
   "source": [
    "It's so bright...\n",
    "\n",
    "The heavens are opening up...\n",
    "\n",
    "The light hitting your face is warm...\n",
    "\n",
    "You feel like you're floating on a breeze...\n",
    "\n",
    "In the distance you see a small figure. You're not sure what it is.\n",
    "\n",
    "As you keep looking it starts to get bigger. \n",
    "\n",
    "And BIGGER. \n",
    "\n",
    "AND <b>BIGGER.</b>\n",
    "\n",
    "The light is so bright. It's a giant golden oven!\n",
    "\n",
    "This...its the Alphamaster Machine Learning Convention Oven 3000. \n",
    "\n",
    "You put data in, let it cook for a little while and out comes a predictive model!\n",
    "\n",
    "Today...you're going to learn how to cook with bunch of different types of ovens.\n",
    "\n",
    "<i>\"Ovens...what?\"</i>\n",
    "\n",
    "MACHINE LEARNING ALGORITHMS ARE LIKE <s>ONIONS</s> OVENS. \n",
    "\n",
    "You put data in and you're able to get predictions out. \n",
    "\n",
    "Just like some cooking methods and ovens perform better than others for cooking certain things. Some machine learning algorithms perform better than others on certain types of data. \n",
    "\n",
    "<b>So how do you pick the right algorithm?</b><br />\n",
    "Well, just like cooking has envolved for years through trial and error. Machine learning has really done the same. "
   ]
  },
  {
   "cell_type": "markdown",
   "metadata": {},
   "source": [
    "<b>1. Importing libraries</b><br />\n",
    "Alrightyy...first thing's first. \n",
    "\n",
    "We're going to import a whole bunch of different libraries to help along the way during our modelling process. \n",
    "\n",
    "The first and probably one of the most important is going to help you build a machine learning pipeline. \n",
    "\n",
    "Think of it as a conveyor belt for your data. \n",
    "\n",
    "The pipeline will perform a transformation to each part of your data on it's way to the oven. \n",
    "\n",
    "To do it we're going to use make_pipeline. "
   ]
  },
  {
   "cell_type": "code",
   "execution_count": 40,
   "metadata": {
    "collapsed": true
   },
   "outputs": [],
   "source": [
    "from sklearn.pipeline import make_pipeline"
   ]
  },
  {
   "cell_type": "markdown",
   "metadata": {},
   "source": [
    "Then we're going to use StandardScaler as one of our core transformations to our data. It takes our data and standardises it so that it's on the same scale as the rest of our data. This ensures that the algorithms treat the features as equals regardless of magnitudes. \n",
    "\n",
    "This is from the preprocessing part of scikit learn. "
   ]
  },
  {
   "cell_type": "code",
   "execution_count": 41,
   "metadata": {
    "collapsed": true
   },
   "outputs": [],
   "source": [
    "from sklearn.preprocessing import StandardScaler"
   ]
  },
  {
   "cell_type": "markdown",
   "metadata": {},
   "source": [
    "Then le piece de resistance...the algorithms. I've just taken a bunch of my favourites but you can choose your own from here ,INSERT MORE HERE. \n",
    "\n",
    "Each of these use different methods to do the same thing. \n",
    "\n",
    "They take in data and try to explain what factors are driving the target variable. \n",
    "\n",
    "Think of the oven analogy, you put raw ingredients (feature variables aka X) in the oven. You then leave it for a little while to cook (training) at a certain temperature. You might change the temperature depending on the results you've had in the past (hyperparameter tuning). But ultimately the outcome is a cake (predictions). \n",
    "\n",
    "The algorithms below are really just different types of ovens. They ultimately aim to do the same thing...it's just that some are better at turning your raw ingredients (data) into cake (predictions). "
   ]
  },
  {
   "cell_type": "code",
   "execution_count": 43,
   "metadata": {},
   "outputs": [
    {
     "name": "stderr",
     "output_type": "stream",
     "text": [
      "/anaconda3/lib/python3.6/site-packages/sklearn/ensemble/weight_boosting.py:29: DeprecationWarning: numpy.core.umath_tests is an internal NumPy module and should not be imported. It will be removed in a future NumPy release.\n",
      "  from numpy.core.umath_tests import inner1d\n"
     ]
    }
   ],
   "source": [
    "from sklearn.linear_model import Ridge, Lasso, ElasticNet\n",
    "from sklearn.ensemble import RandomForestRegressor, GradientBoostingRegressor"
   ]
  },
  {
   "cell_type": "markdown",
   "metadata": {},
   "source": [
    "<b>2. Make some pipelines! </b>"
   ]
  },
  {
   "cell_type": "markdown",
   "metadata": {},
   "source": [
    "What are pipelines again?\n",
    "\n",
    "Think of them as a conveyor belt for your ingredients before they're baked. \n",
    "\n",
    "Here we're building a pipeline that applies the Standard Scaler which converts our values into something known as a z score. \n",
    "\n",
    "This is a fancy way of saying it subtracts the the average of the column and divides it by the standard deviation. \n",
    "\n",
    "Or in pseudo code, it looks a little like this:\n",
    "z score = (value in the column - average value for that column) / standard deviation\n",
    "\n",
    "Then you're creating a new copy of the algorithm and storing it in a dictionary. \n",
    "\n",
    "<b>N.B.</b> This is going to help you later on when we get to tuning your algorithms. "
   ]
  },
  {
   "cell_type": "code",
   "execution_count": 44,
   "metadata": {
    "collapsed": true
   },
   "outputs": [],
   "source": [
    "pipelines = {\n",
    "    'rf':make_pipeline(StandardScaler(), RandomForestRegressor(random_state=random_state)),\n",
    "    'gb':make_pipeline(StandardScaler(), GradientBoostingRegressor(random_state=random_state)),\n",
    "    'enet':make_pipeline(StandardScaler(), ElasticNet(random_state=random_state)),\n",
    "    'ridge':make_pipeline(StandardScaler(), Ridge(random_state=random_state)),\n",
    "    'lasso':make_pipeline(StandardScaler(), Lasso(random_state=random_state))\n",
    "}"
   ]
  },
  {
   "cell_type": "markdown",
   "metadata": {},
   "source": [
    "<b>3. Setup a tuning grid</b><br />\n",
    "Remember when I said that when you're cooking your ingredient you might change the temperature to get a better cake. \n",
    "\n",
    "Well...\n",
    "\n",
    "In machine learning this process is known as hyperparameter tuning, sometimes referred to as HPO or hyperparameter optimization. \n",
    "\n",
    "You do it using something called a hyperparameter grid. \n",
    "\n",
    "<b>HOLD UP</b></br></br>\n",
    "\n",
    "<i>\"What the hell is a hyperparameter?\"</i>\n",
    "\n",
    "Hyperparameters are values that you can change to influence how a machine learning algorithm goes about learning from your data. \n",
    "\n",
    "Just like you can change the temperature on an oven. You can change a hyperparameter that's attached to an algorithm. \n",
    "\n",
    "This may make the algorithm train (cook) faster or slower, it might also make it more accurate in it's final outcome (or less accurate). \n",
    "\n",
    "<i>\"So how do I know what hyperparameters to choose?\"</i><br />\n",
    "I remember asking myself the same question. \n",
    "\n",
    "Luckily...you can use a function called GridSearch to search through all the hyperparameters in the hyperparameter grid. This will allow you to automatically choose the best algorithm and the best hyperparameters for your data!\n",
    "\n",
    "To setup your grid you're going to do something similar to what you did when creating your pipelines. \n",
    "\n",
    "Each algorithm will have it's own grid and those grids will be stored together in a python dictionary. "
   ]
  },
  {
   "cell_type": "code",
   "execution_count": 45,
   "metadata": {
    "collapsed": true
   },
   "outputs": [],
   "source": [
    "grid = {\n",
    "    'rf':{'randomforestregressor__n_estimators':[10,20,30]},\n",
    "    'gb':{'gradientboostingregressor__alpha':[0.5,0.9,0.99]},\n",
    "    'enet':{'elasticnet__alpha':[0.5,0.9,0.99]},\n",
    "    'ridge':{'ridge__alpha':[0.5,0.9,0.99]},\n",
    "    'lasso':{'lasso__alpha':[0.5,0.9,0.99]}\n",
    "}"
   ]
  },
  {
   "cell_type": "markdown",
   "metadata": {},
   "source": [
    "<i>What's 'randomforestregressor__n_estimators'?</i><br />\n",
    "The first part randomforestregressor is the name of the pipeline that is generated by the make_pipeline function from step two. This allows you to identify which paramater for which algorithm you're tuning. The second part n_estimators is the hyperparameter you're tuning. The array attached to that is the range of values you're testing our during the grid search. \n",
    "\n",
    "You can check out all the parameters attached to an algorithm like so..."
   ]
  },
  {
   "cell_type": "code",
   "execution_count": null,
   "metadata": {
    "collapsed": true
   },
   "outputs": [],
   "source": [
    "Lasso().get_params()"
   ]
  },
  {
   "cell_type": "markdown",
   "metadata": {},
   "source": [
    "<b>4. Train your model using Grid Search</b><br /> \n",
    "Now's the time to get cooking. \n",
    "\n",
    "As part of using GridSearch you're also going to put your data through a process known as cross validation. This holds our a section of your data and tests it to make sure the algorithm is learning to predict well. \n",
    "\n",
    "This can be done using GridSearchCV from scikit learn. "
   ]
  },
  {
   "cell_type": "code",
   "execution_count": 46,
   "metadata": {
    "collapsed": true
   },
   "outputs": [],
   "source": [
    "from sklearn.model_selection import  GridSearchCV"
   ]
  },
  {
   "cell_type": "markdown",
   "metadata": {},
   "source": [
    "Then for each model within your pipeline...you're going to start cooking. \n",
    "\n",
    "This really happens in three key parts. \n",
    "\n",
    "For a given model...\n",
    "\n",
    "First, you create a new instance of the GridSearchCV class. \n",
    "\n",
    "Second, you train the algorithm using your X and Y data.\n",
    "\n",
    "Third, you save the model to a fit_models dictonary."
   ]
  },
  {
   "cell_type": "code",
   "execution_count": 47,
   "metadata": {},
   "outputs": [
    {
     "name": "stdout",
     "output_type": "stream",
     "text": [
      "rf model has been fit.\n",
      "gb model has been fit.\n",
      "enet model has been fit.\n",
      "ridge model has been fit.\n",
      "lasso model has been fit.\n"
     ]
    }
   ],
   "source": [
    "fit_models = {}\n",
    "for algo, pipeline in pipelines.items():\n",
    "    # 4.1 Create a Grid Search CV instance\n",
    "    model = GridSearchCV(pipeline, grid[algo], cv=10, n_jobs=-1)\n",
    "    # 4.2 Fit the model\n",
    "    model.fit(X_train, y_train)\n",
    "    # 4.3 Save it to the fit models dictionary\n",
    "    fit_models[algo] = model\n",
    "    print(algo, 'model has been fit.')"
   ]
  },
  {
   "cell_type": "markdown",
   "metadata": {},
   "source": [
    "The reason you save it to a dictionary will become more obvious in the next class. \n",
    "\n",
    "For now...bask in the glow...you just created a production quality machine learning model!\n",
    "\n",
    "YEEEHOOOOO. \n",
    "\n",
    "<b>Let's recap, today you:</b><br />\n",
    "1. Imported the required libraries for modern machine learning\n",
    "2. Setup machine learning pipelines and used StandardScaler\n",
    "3. Constructed a hyperparameter tuning grid for HPO\n",
    "4. Used Grid Search CV to train your model\n",
    "\n",
    "You're just one last step away from the final class! \n",
    "\n",
    "In the next class you'll learn how to evaluate your model and generate predictions!\n",
    "\n",
    "The Mad Modeller, \n",
    "Nick\n",
    "\n",
    "P.s. I may have simplified a lot of these concepts...if there's any you'd like to know more about join bleh..."
   ]
  },
  {
   "cell_type": "markdown",
   "metadata": {},
   "source": [
    "# Evaluation"
   ]
  },
  {
   "cell_type": "markdown",
   "metadata": {},
   "source": [
    "I just realised...\n",
    "\n",
    "Yesterday you baked a cake...\n",
    "\n",
    "But I didn't even offer you a slice...\n",
    "\n",
    "I left you hanging\n",
    "\n",
    "ALL GOOD!\n",
    "\n",
    "We can fix that, because.....\n",
    "\n",
    "<b>TODAY YOU'RE MAKING PREDICTIONS!</b><br/> \n",
    "\n",
    "Before we do that, let's quickly recap on what you've done so far. \n",
    "Lesson 1: CRISP-DM and imported Data\n",
    "Lesson 2: Data Understanding - summary stats, missing values and visualisation\n",
    "Lesson 3: Data Preparation - fixing data types, one hot encoding, X and Y setup, correlation\n",
    "Lesson 4: Modelling - pipelines, hpo and grid search\n",
    "\n",
    "Lesson 5 puts a great big tick on one of the most important components of CRISP-DM....EVALUATION. \n",
    "\n",
    "<i>Q: \"Why is it so important?\"</i>\n",
    "A: Because it gives us an indication of how well our model is performing and how well it will likely perform once we release it into the wild when it's deployed. \n",
    "\n",
    "Plus...if your model sucks...it can also tells that maybe you need to spend a bit more time at each one of the CRISP-DM steps."
   ]
  },
  {
   "cell_type": "markdown",
   "metadata": {},
   "source": [
    "<b>1. Making Predictions</b> <br /> \n",
    "Before you take the first step and start evaluating your model. \n",
    "\n",
    "Let's quickly make some predictions to make sure everything looks kosher. \n",
    "\n",
    "Cast your mind all the way back to yesterday...when you saved each fit model into a dictionary called fit_models. \n",
    "\n",
    "You can now use that same dictionary to access the models that have already been trained. "
   ]
  },
  {
   "cell_type": "code",
   "execution_count": 48,
   "metadata": {
    "scrolled": true
   },
   "outputs": [
    {
     "data": {
      "text/plain": [
       "{'enet': GridSearchCV(cv=10, error_score='raise',\n",
       "        estimator=Pipeline(memory=None,\n",
       "      steps=[('standardscaler', StandardScaler(copy=True, with_mean=True, with_std=True)), ('elasticnet', ElasticNet(alpha=1.0, copy_X=True, fit_intercept=True, l1_ratio=0.5,\n",
       "       max_iter=1000, normalize=False, positive=False, precompute=False,\n",
       "       random_state=1234, selection='cyclic', tol=0.0001, warm_start=False))]),\n",
       "        fit_params=None, iid=True, n_jobs=-1,\n",
       "        param_grid={'elasticnet__alpha': [0.5, 0.9, 0.99]},\n",
       "        pre_dispatch='2*n_jobs', refit=True, return_train_score='warn',\n",
       "        scoring=None, verbose=0),\n",
       " 'gb': GridSearchCV(cv=10, error_score='raise',\n",
       "        estimator=Pipeline(memory=None,\n",
       "      steps=[('standardscaler', StandardScaler(copy=True, with_mean=True, with_std=True)), ('gradientboostingregressor', GradientBoostingRegressor(alpha=0.9, criterion='friedman_mse', init=None,\n",
       "              learning_rate=0.1, loss='ls', max_depth=3, max_features=None,\n",
       "              max_leaf_nodes=None, mi...s=100, presort='auto', random_state=1234,\n",
       "              subsample=1.0, verbose=0, warm_start=False))]),\n",
       "        fit_params=None, iid=True, n_jobs=-1,\n",
       "        param_grid={'gradientboostingregressor__alpha': [0.5, 0.9, 0.99]},\n",
       "        pre_dispatch='2*n_jobs', refit=True, return_train_score='warn',\n",
       "        scoring=None, verbose=0),\n",
       " 'lasso': GridSearchCV(cv=10, error_score='raise',\n",
       "        estimator=Pipeline(memory=None,\n",
       "      steps=[('standardscaler', StandardScaler(copy=True, with_mean=True, with_std=True)), ('lasso', Lasso(alpha=1.0, copy_X=True, fit_intercept=True, max_iter=1000,\n",
       "    normalize=False, positive=False, precompute=False, random_state=1234,\n",
       "    selection='cyclic', tol=0.0001, warm_start=False))]),\n",
       "        fit_params=None, iid=True, n_jobs=-1,\n",
       "        param_grid={'lasso__alpha': [0.5, 0.9, 0.99]},\n",
       "        pre_dispatch='2*n_jobs', refit=True, return_train_score='warn',\n",
       "        scoring=None, verbose=0),\n",
       " 'rf': GridSearchCV(cv=10, error_score='raise',\n",
       "        estimator=Pipeline(memory=None,\n",
       "      steps=[('standardscaler', StandardScaler(copy=True, with_mean=True, with_std=True)), ('randomforestregressor', RandomForestRegressor(bootstrap=True, criterion='mse', max_depth=None,\n",
       "            max_features='auto', max_leaf_nodes=None,\n",
       "            min_impurity_decr...imators=10, n_jobs=1,\n",
       "            oob_score=False, random_state=1234, verbose=0, warm_start=False))]),\n",
       "        fit_params=None, iid=True, n_jobs=-1,\n",
       "        param_grid={'randomforestregressor__n_estimators': [10, 20, 30]},\n",
       "        pre_dispatch='2*n_jobs', refit=True, return_train_score='warn',\n",
       "        scoring=None, verbose=0),\n",
       " 'ridge': GridSearchCV(cv=10, error_score='raise',\n",
       "        estimator=Pipeline(memory=None,\n",
       "      steps=[('standardscaler', StandardScaler(copy=True, with_mean=True, with_std=True)), ('ridge', Ridge(alpha=1.0, copy_X=True, fit_intercept=True, max_iter=None,\n",
       "    normalize=False, random_state=1234, solver='auto', tol=0.001))]),\n",
       "        fit_params=None, iid=True, n_jobs=-1,\n",
       "        param_grid={'ridge__alpha': [0.5, 0.9, 0.99]},\n",
       "        pre_dispatch='2*n_jobs', refit=True, return_train_score='warn',\n",
       "        scoring=None, verbose=0)}"
      ]
     },
     "execution_count": 48,
     "metadata": {},
     "output_type": "execute_result"
    }
   ],
   "source": [
    "fit_models"
   ]
  },
  {
   "cell_type": "markdown",
   "metadata": {},
   "source": [
    "Inside of that lil' old dictionary there's fit models. \n",
    "\n",
    "One for each algorithm that you used during the grid search. \n",
    "\n",
    "Let's say you wanted to make a prediction using the Random Forest Regressor algorithm. \n",
    "\n",
    "You can access it like this. "
   ]
  },
  {
   "cell_type": "code",
   "execution_count": 50,
   "metadata": {},
   "outputs": [
    {
     "data": {
      "text/plain": [
       "GridSearchCV(cv=10, error_score='raise',\n",
       "       estimator=Pipeline(memory=None,\n",
       "     steps=[('standardscaler', StandardScaler(copy=True, with_mean=True, with_std=True)), ('randomforestregressor', RandomForestRegressor(bootstrap=True, criterion='mse', max_depth=None,\n",
       "           max_features='auto', max_leaf_nodes=None,\n",
       "           min_impurity_decr...imators=10, n_jobs=1,\n",
       "           oob_score=False, random_state=1234, verbose=0, warm_start=False))]),\n",
       "       fit_params=None, iid=True, n_jobs=-1,\n",
       "       param_grid={'randomforestregressor__n_estimators': [10, 20, 30]},\n",
       "       pre_dispatch='2*n_jobs', refit=True, return_train_score='warn',\n",
       "       scoring=None, verbose=0)"
      ]
     },
     "execution_count": 50,
     "metadata": {},
     "output_type": "execute_result"
    }
   ],
   "source": [
    "fit_models['rf']"
   ]
  },
  {
   "cell_type": "markdown",
   "metadata": {},
   "source": [
    "And make a prediction by using the .predict() method. "
   ]
  },
  {
   "cell_type": "code",
   "execution_count": 51,
   "metadata": {},
   "outputs": [
    {
     "data": {
      "text/plain": [
       "array([3132.075     , 1110.35333333, 1499.63      , ..., 2084.47166667,\n",
       "        524.5       , 1618.32333333])"
      ]
     },
     "execution_count": 51,
     "metadata": {},
     "output_type": "execute_result"
    }
   ],
   "source": [
    "fit_models['rf'].predict(X_test)"
   ]
  },
  {
   "cell_type": "markdown",
   "metadata": {},
   "source": [
    "Presto! You just made your first set of predictions!\n",
    "\n",
    "*FIREWORKS ARE GOING OFF IN MY OFFICE*\n",
    "\n",
    "*I'M POPPING CHAMPAGNE FOR YOU*\n",
    "\n",
    "But seriously...that's a huge achievement! \n",
    "\n",
    "Great job...but it's not over yet. \n",
    "\n",
    "You've got two more things to do before you're done. "
   ]
  },
  {
   "cell_type": "markdown",
   "metadata": {},
   "source": [
    "<b>2. Evaluating your model </b><br /> \n",
    "How you evaluate your model will be a little different each time depending on what your goal is. \n",
    "\n",
    "But generally, it follows a process that looks a little like this. \n",
    "\n",
    "1st: Split your data into training and testing partitions (DONE) <br />\n",
    "2nd: Train a model on your data from the training set (DONE)<br />\n",
    "<b>3rd: Pick a scoring metric that's relevant to your goal </b><br />\n",
    "<b>4th: Calculate the metric score using the test data</b><br /> \n",
    "\n",
    "So you've only have the 3rd and 4th steps left to do for evaluation. \n",
    "\n",
    "I'm going to save you a bit of time, the metric you're going to be using to evaluate your model is Mean Squared Error (MSE). You can access it from scikit learn metrics. "
   ]
  },
  {
   "cell_type": "code",
   "execution_count": 52,
   "metadata": {
    "collapsed": true
   },
   "outputs": [],
   "source": [
    "from sklearn.metrics import mean_squared_error"
   ]
  },
  {
   "cell_type": "markdown",
   "metadata": {},
   "source": [
    "Whenever evaluating a metric it's good to know what the score means. In this case, MSE is a measure of how far the prediction is from the true value on average. \n",
    "\n",
    "Knowing this, you want the MSE value to be as low as possible. \n",
    "\n",
    "<b>Know your metrics</b><br />\n",
    "LOW MSE - GOOD <br />\n",
    "HIGH MSE - BAD <br />\n",
    "\n",
    "You can loop through each model inside of the fit_models dictionary and calculate mse using the mean_squared_error() score that was just imported. "
   ]
  },
  {
   "cell_type": "code",
   "execution_count": 53,
   "metadata": {},
   "outputs": [
    {
     "name": "stdout",
     "output_type": "stream",
     "text": [
      "MSE for rf is 7169.195556476935\n",
      "MSE for gb is 10285.673375545595\n",
      "MSE for enet is 606950.5032082931\n",
      "MSE for ridge is 485605.0006509641\n",
      "MSE for lasso is 485571.2298561204\n"
     ]
    }
   ],
   "source": [
    "for algo, model in fit_models.items():\n",
    "    yhat = model.predict(X_test)\n",
    "    print('MSE for', algo, 'is', mean_squared_error(y_test, yhat))"
   ]
  },
  {
   "cell_type": "markdown",
   "metadata": {},
   "source": [
    "Knowing what we just went through, that a lower MSE is better. \n",
    "\n",
    "You can tell that the Random Forest Regressor is performing the best. \n",
    "\n",
    "Now what...?"
   ]
  },
  {
   "cell_type": "markdown",
   "metadata": {},
   "source": [
    "<b>3. Saving your models</b>"
   ]
  },
  {
   "cell_type": "markdown",
   "metadata": {},
   "source": [
    "You need to save and deploy your model. You can do this using another library called pickle. \n",
    "\n",
    "You're only going to save the best model so that it can later be deployed into production. \n",
    "\n",
    "<i>How do we do this?</i> \n",
    "You already know that the best model is the one built using the Random Forest Regressor algorithm. You just need to grab the model that has the best hyperparameters. You can extract this using the best\\_estimator\\_ attribute "
   ]
  },
  {
   "cell_type": "code",
   "execution_count": 63,
   "metadata": {
    "collapsed": true
   },
   "outputs": [],
   "source": [
    "bestmod = fit_models['rf'].best_estimator_"
   ]
  },
  {
   "cell_type": "markdown",
   "metadata": {},
   "source": [
    "Make sure this works by running a prediction using the best model. "
   ]
  },
  {
   "cell_type": "code",
   "execution_count": 64,
   "metadata": {},
   "outputs": [
    {
     "data": {
      "text/plain": [
       "array([3132.075     , 1110.35333333, 1499.63      , ..., 2084.47166667,\n",
       "        524.5       , 1618.32333333])"
      ]
     },
     "execution_count": 64,
     "metadata": {},
     "output_type": "execute_result"
    }
   ],
   "source": [
    "bestmod.predict(X_test)"
   ]
  },
  {
   "cell_type": "markdown",
   "metadata": {},
   "source": [
    "It's all looking good. Let's save this using pickle. "
   ]
  },
  {
   "cell_type": "code",
   "execution_count": 65,
   "metadata": {
    "collapsed": true
   },
   "outputs": [],
   "source": [
    "import pickle as pkl"
   ]
  },
  {
   "cell_type": "code",
   "execution_count": 71,
   "metadata": {
    "collapsed": true
   },
   "outputs": [],
   "source": [
    "with open('saved_model.pkl', 'wb') as f:\n",
    "    pkl.dump(bestmod, f)"
   ]
  },
  {
   "cell_type": "markdown",
   "metadata": {},
   "source": [
    "You should now have a saved model binary stored to your local drive called <i>saved_model.pkl</i>.<br />\n",
    "\n",
    "<img src='https://i.imgur.com/LCJSm4Y.png'>"
   ]
  },
  {
   "cell_type": "markdown",
   "metadata": {},
   "source": [
    "<b>4. Reloading the model</b><br />\n",
    "BRACE YOURSELF!\n",
    "\n",
    "We're about to delete our model!\n",
    "\n",
    "But that's cool because we're going to reload it anyway. "
   ]
  },
  {
   "cell_type": "code",
   "execution_count": 72,
   "metadata": {
    "collapsed": true
   },
   "outputs": [],
   "source": [
    "del bestmod"
   ]
  },
  {
   "cell_type": "markdown",
   "metadata": {},
   "source": [
    "*POOOOF*\n",
    "\n",
    "It's gone. \n",
    "\n",
    "Just like that. \n",
    "\n",
    "You:...\n",
    "You:...\n",
    "You:...\n",
    "You:SO HOW DO WE GET IT BACK NICK!\n",
    "\n",
    "Just like you used pickle to save the file, you can use it to bring it back to life. "
   ]
  },
  {
   "cell_type": "code",
   "execution_count": 74,
   "metadata": {
    "collapsed": true
   },
   "outputs": [],
   "source": [
    "with open('saved_model.pkl', 'rb') as f:\n",
    "    model = pkl.load(f)"
   ]
  },
  {
   "cell_type": "markdown",
   "metadata": {},
   "source": [
    "And just like that your model is back!"
   ]
  },
  {
   "cell_type": "code",
   "execution_count": 77,
   "metadata": {},
   "outputs": [
    {
     "data": {
      "text/plain": [
       "Pipeline(memory=None,\n",
       "     steps=[('standardscaler', StandardScaler(copy=True, with_mean=True, with_std=True)), ('randomforestregressor', RandomForestRegressor(bootstrap=True, criterion='mse', max_depth=None,\n",
       "           max_features='auto', max_leaf_nodes=None,\n",
       "           min_impurity_decrease=0.0, min_impurity_split=None,\n",
       "           min_samples_leaf=1, min_samples_split=2,\n",
       "           min_weight_fraction_leaf=0.0, n_estimators=30, n_jobs=1,\n",
       "           oob_score=False, random_state=1234, verbose=0, warm_start=False))])"
      ]
     },
     "execution_count": 77,
     "metadata": {},
     "output_type": "execute_result"
    }
   ],
   "source": [
    "model"
   ]
  },
  {
   "cell_type": "code",
   "execution_count": 78,
   "metadata": {},
   "outputs": [
    {
     "data": {
      "text/plain": [
       "array([3132.075     , 1110.35333333, 1499.63      , ..., 2084.47166667,\n",
       "        524.5       , 1618.32333333])"
      ]
     },
     "execution_count": 78,
     "metadata": {},
     "output_type": "execute_result"
    }
   ],
   "source": [
    "model.predict(X_test)"
   ]
  },
  {
   "cell_type": "markdown",
   "metadata": {},
   "source": [
    "This really only goes through basic 'deployment'. \n",
    "\n",
    "In a real world applications your binary (the pickle file) is usually deployed in one of three ways:\n",
    "A. As a REST API\n",
    "B. Using a Python Script\n",
    "C. If the model interpretable enough, it's converted to a rules based model\n",
    "\n",
    "You're officially done with this Crash Course!\n",
    "\n",
    "Go you, absolutely crushed it. In just five days you've accomplished a ton of data science!\n",
    "\n",
    "Let's take a moment to reflect, over the last five days you've: \n",
    "Day 1 - Learned CRISP-DM and how to import data from a CSV\n",
    "Day 2 - Developed trust in your data during data understanding \n",
    "Day 3 - Wrangled with your data doing using different types of data preparation \n",
    "Day 4 - Mastered modelling using some of the best algorithms going around and GridSearchCV\n",
    "Day 5 - Capped it all off by making some predictions, evaluating your model and creating a saved binary\n",
    "\n",
    "Overall...I'd say you did pretty well!\n",
    "\n",
    "Wondering where to from here? \n",
    "\n",
    "Well, I truly believe Data Scientists are the modern day superheroes. \n",
    "\n",
    "I mean, DAMMIT, <b>WE TEACH COMPUTERS!</b>\n",
    "\n",
    "The crash course you've gone through really only scratches the surface. There's so much more out there to learn. \n",
    "\n",
    "So where should you invest your time?\n",
    "\n",
    "Two words.\n",
    "\n",
    "DEEP LEARNING. \n",
    "\n",
    "Being an absolute gun at deep learning allows you to work on perception tasks, not just structured data. This means you can start to apply machine learning to images, text and video. \n",
    "\n",
    "You're not just playing with CSVs anymmore. \n",
    "\n",
    "<i>\"Why doesn't everyone just learn this stuff if it's so good Nick?\"</i>\n",
    "\n",
    "Because it's not the easiest stuff to learn. \n",
    "\n",
    "The field of deep learning is dominated by academics. \n",
    "\n",
    "I've got nothing against academics but they tend to teach as though everyone is already at a very high level. \n",
    "\n",
    "This makes it hard to get an understanding on what is really happening behind the scenes. \n",
    "\n",
    "I went through this very battle when honing my own deep learning chops. "
   ]
  },
  {
   "cell_type": "code",
   "execution_count": null,
   "metadata": {
    "collapsed": true
   },
   "outputs": [],
   "source": []
  }
 ],
 "metadata": {
  "kernelspec": {
   "display_name": "Python 3",
   "language": "python",
   "name": "python3"
  },
  "language_info": {
   "codemirror_mode": {
    "name": "ipython",
    "version": 3
   },
   "file_extension": ".py",
   "mimetype": "text/x-python",
   "name": "python",
   "nbconvert_exporter": "python",
   "pygments_lexer": "ipython3",
   "version": "3.6.8"
  }
 },
 "nbformat": 4,
 "nbformat_minor": 2
}
